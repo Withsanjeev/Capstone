{
  "nbformat": 4,
  "nbformat_minor": 0,
  "metadata": {
    "colab": {
      "provenance": []
    },
    "kernelspec": {
      "name": "python3",
      "display_name": "Python 3"
    },
    "language_info": {
      "name": "python"
    }
  },
  "cells": [
    {
      "cell_type": "markdown",
      "source": [
        "# Analysis of combined jobs final"
      ],
      "metadata": {
        "id": "eAFvlvRJus67"
      }
    },
    {
      "cell_type": "markdown",
      "source": [
        "##Importing Necessary Libraries"
      ],
      "metadata": {
        "id": "ogoL-0exu6ex"
      }
    },
    {
      "cell_type": "code",
      "source": [
        "from google.colab import drive"
      ],
      "metadata": {
        "id": "DVn-lI15zsiE"
      },
      "execution_count": null,
      "outputs": []
    },
    {
      "cell_type": "code",
      "source": [
        "from google.colab import drive\n",
        "drive.mount('/content/drive')"
      ],
      "metadata": {
        "colab": {
          "base_uri": "https://localhost:8080/"
        },
        "id": "q2k1R4SXz-vn",
        "outputId": "e15cdd48-de09-413d-aa24-7311eb514207"
      },
      "execution_count": null,
      "outputs": [
        {
          "output_type": "stream",
          "name": "stdout",
          "text": [
            "Mounted at /content/drive\n"
          ]
        }
      ]
    },
    {
      "cell_type": "code",
      "execution_count": null,
      "metadata": {
        "id": "66arfAkXSMyu"
      },
      "outputs": [],
      "source": [
        "import pandas as pd  # Importing pandas library for data manipulation\n",
        "import numpy as np  # Importing numpy library for numerical operations and array handling\n",
        "import plotly.express as px  # Importing plotly express for interactive plotting and visualization\n",
        "from sklearn.preprocessing import LabelEncoder  # Importing LabelEncoder for encoding categorical variables\n",
        "from sklearn.model_selection import train_test_split  # Importing train_test_split for splitting data into training and testing sets\n",
        "from sklearn.ensemble import RandomForestClassifier  # Importing RandomForestClassifier for classification using ensemble method\n",
        "from sklearn.linear_model import LogisticRegression  # Importing LogisticRegression for logistic regression classification\n",
        "from sklearn.neighbors import KNeighborsClassifier  # Importing KNeighborsClassifier for K-nearest neighbors classification\n",
        "from sklearn.metrics import accuracy_score, classification_report, confusion_matrix  # Importing metrics for evaluating classification models."
      ]
    },
    {
      "cell_type": "code",
      "source": [
        "data = pd.read_csv('/content/drive/MyDrive/Combined_Jobs_Final.csv.zip')"
      ],
      "metadata": {
        "id": "BpNScMJv0RwV"
      },
      "execution_count": null,
      "outputs": []
    },
    {
      "cell_type": "code",
      "source": [
        "url = '/content/drive/MyDrive/Combined_Jobs_Final.csv.zip'\n",
        "df = pd.read_csv(url)\n"
      ],
      "metadata": {
        "id": "agi2a1nq0maM"
      },
      "execution_count": null,
      "outputs": []
    },
    {
      "cell_type": "code",
      "source": [],
      "metadata": {
        "id": "yC4C2RCpd8EH"
      },
      "execution_count": null,
      "outputs": []
    },
    {
      "cell_type": "markdown",
      "source": [
        "##Data Exploration"
      ],
      "metadata": {
        "id": "aiIkaqMG06Z9"
      }
    },
    {
      "cell_type": "code",
      "source": [
        "df.head()"
      ],
      "metadata": {
        "colab": {
          "base_uri": "https://localhost:8080/",
          "height": 620
        },
        "id": "LQu1IVhc0_qc",
        "outputId": "bb4ee293-24a3-473c-a852-57e33621d2e1"
      },
      "execution_count": null,
      "outputs": [
        {
          "output_type": "execute_result",
          "data": {
            "text/plain": [
              "   Job.ID  Provider Status                                               Slug  \\\n",
              "0     111         1   open                    palo-alto-ca-tacolicious-server   \n",
              "1     113         1   open    san-francisco-ca-claude-lane-kitchen-staff-chef   \n",
              "2     117         1   open  san-francisco-ca-machka-restaurants-corp-barte...   \n",
              "3     121         1   open                  brisbane-ca-teriyaki-house-server   \n",
              "4     127         1   open  los-angeles-ca-rosa-mexicano-sunset-kitchen-st...   \n",
              "\n",
              "                                         Title            Position  \\\n",
              "0                         Server @ Tacolicious              Server   \n",
              "1             Kitchen Staff/Chef @ Claude Lane  Kitchen Staff/Chef   \n",
              "2         Bartender @ Machka Restaurants Corp.           Bartender   \n",
              "3                      Server @ Teriyaki House              Server   \n",
              "4  Kitchen Staff/Chef @ Rosa Mexicano - Sunset  Kitchen Staff/Chef   \n",
              "\n",
              "                    Company           City  State.Name State.Code  ...  \\\n",
              "0               Tacolicious      Palo Alto  California         CA  ...   \n",
              "1               Claude Lane  San Francisco  California         CA  ...   \n",
              "2  Machka Restaurants Corp.  San Francisco  California         CA  ...   \n",
              "3            Teriyaki House       Brisbane  California         CA  ...   \n",
              "4    Rosa Mexicano - Sunset    Los Angeles  California         CA  ...   \n",
              "\n",
              "             Industry                                    Job.Description  \\\n",
              "0  Food and Beverages  Tacolicious' first Palo Alto store just opened...   \n",
              "1  Food and Beverages   \\r\\n\\r\\nNew French Brasserie in S.F. Financia...   \n",
              "2  Food and Beverages  We are a popular Mediterranean wine bar and re...   \n",
              "3  Food and Beverages   ● Serve food/drinks to customers in a profess...   \n",
              "4  Food and Beverages  Located at the heart of Hollywood, we are one ...   \n",
              "\n",
              "   Requirements Salary Listing.Start  Listing.End  Employment.Type  \\\n",
              "0           NaN   8.00           NaN          NaN        Part-Time   \n",
              "1           NaN   0.00           NaN          NaN        Part-Time   \n",
              "2           NaN  11.00           NaN          NaN        Part-Time   \n",
              "3           NaN  10.55           NaN          NaN        Part-Time   \n",
              "4           NaN  10.55           NaN          NaN        Part-Time   \n",
              "\n",
              "  Education.Required               Created.At               Updated.At  \n",
              "0                NaN  2013-03-12 02:08:28 UTC  2014-08-16 15:35:36 UTC  \n",
              "1                NaN  2013-04-12 08:36:36 UTC  2014-08-16 15:35:36 UTC  \n",
              "2                NaN  2013-07-16 09:34:10 UTC  2014-08-16 15:35:37 UTC  \n",
              "3                NaN  2013-09-04 15:40:30 UTC  2014-08-16 15:35:38 UTC  \n",
              "4                NaN  2013-07-17 15:26:18 UTC  2014-08-16 15:35:40 UTC  \n",
              "\n",
              "[5 rows x 23 columns]"
            ],
            "text/html": [
              "\n",
              "  <div id=\"df-9d81d270-89a4-4536-b179-6dc9dac0264f\" class=\"colab-df-container\">\n",
              "    <div>\n",
              "<style scoped>\n",
              "    .dataframe tbody tr th:only-of-type {\n",
              "        vertical-align: middle;\n",
              "    }\n",
              "\n",
              "    .dataframe tbody tr th {\n",
              "        vertical-align: top;\n",
              "    }\n",
              "\n",
              "    .dataframe thead th {\n",
              "        text-align: right;\n",
              "    }\n",
              "</style>\n",
              "<table border=\"1\" class=\"dataframe\">\n",
              "  <thead>\n",
              "    <tr style=\"text-align: right;\">\n",
              "      <th></th>\n",
              "      <th>Job.ID</th>\n",
              "      <th>Provider</th>\n",
              "      <th>Status</th>\n",
              "      <th>Slug</th>\n",
              "      <th>Title</th>\n",
              "      <th>Position</th>\n",
              "      <th>Company</th>\n",
              "      <th>City</th>\n",
              "      <th>State.Name</th>\n",
              "      <th>State.Code</th>\n",
              "      <th>...</th>\n",
              "      <th>Industry</th>\n",
              "      <th>Job.Description</th>\n",
              "      <th>Requirements</th>\n",
              "      <th>Salary</th>\n",
              "      <th>Listing.Start</th>\n",
              "      <th>Listing.End</th>\n",
              "      <th>Employment.Type</th>\n",
              "      <th>Education.Required</th>\n",
              "      <th>Created.At</th>\n",
              "      <th>Updated.At</th>\n",
              "    </tr>\n",
              "  </thead>\n",
              "  <tbody>\n",
              "    <tr>\n",
              "      <th>0</th>\n",
              "      <td>111</td>\n",
              "      <td>1</td>\n",
              "      <td>open</td>\n",
              "      <td>palo-alto-ca-tacolicious-server</td>\n",
              "      <td>Server @ Tacolicious</td>\n",
              "      <td>Server</td>\n",
              "      <td>Tacolicious</td>\n",
              "      <td>Palo Alto</td>\n",
              "      <td>California</td>\n",
              "      <td>CA</td>\n",
              "      <td>...</td>\n",
              "      <td>Food and Beverages</td>\n",
              "      <td>Tacolicious' first Palo Alto store just opened...</td>\n",
              "      <td>NaN</td>\n",
              "      <td>8.00</td>\n",
              "      <td>NaN</td>\n",
              "      <td>NaN</td>\n",
              "      <td>Part-Time</td>\n",
              "      <td>NaN</td>\n",
              "      <td>2013-03-12 02:08:28 UTC</td>\n",
              "      <td>2014-08-16 15:35:36 UTC</td>\n",
              "    </tr>\n",
              "    <tr>\n",
              "      <th>1</th>\n",
              "      <td>113</td>\n",
              "      <td>1</td>\n",
              "      <td>open</td>\n",
              "      <td>san-francisco-ca-claude-lane-kitchen-staff-chef</td>\n",
              "      <td>Kitchen Staff/Chef @ Claude Lane</td>\n",
              "      <td>Kitchen Staff/Chef</td>\n",
              "      <td>Claude Lane</td>\n",
              "      <td>San Francisco</td>\n",
              "      <td>California</td>\n",
              "      <td>CA</td>\n",
              "      <td>...</td>\n",
              "      <td>Food and Beverages</td>\n",
              "      <td>\\r\\n\\r\\nNew French Brasserie in S.F. Financia...</td>\n",
              "      <td>NaN</td>\n",
              "      <td>0.00</td>\n",
              "      <td>NaN</td>\n",
              "      <td>NaN</td>\n",
              "      <td>Part-Time</td>\n",
              "      <td>NaN</td>\n",
              "      <td>2013-04-12 08:36:36 UTC</td>\n",
              "      <td>2014-08-16 15:35:36 UTC</td>\n",
              "    </tr>\n",
              "    <tr>\n",
              "      <th>2</th>\n",
              "      <td>117</td>\n",
              "      <td>1</td>\n",
              "      <td>open</td>\n",
              "      <td>san-francisco-ca-machka-restaurants-corp-barte...</td>\n",
              "      <td>Bartender @ Machka Restaurants Corp.</td>\n",
              "      <td>Bartender</td>\n",
              "      <td>Machka Restaurants Corp.</td>\n",
              "      <td>San Francisco</td>\n",
              "      <td>California</td>\n",
              "      <td>CA</td>\n",
              "      <td>...</td>\n",
              "      <td>Food and Beverages</td>\n",
              "      <td>We are a popular Mediterranean wine bar and re...</td>\n",
              "      <td>NaN</td>\n",
              "      <td>11.00</td>\n",
              "      <td>NaN</td>\n",
              "      <td>NaN</td>\n",
              "      <td>Part-Time</td>\n",
              "      <td>NaN</td>\n",
              "      <td>2013-07-16 09:34:10 UTC</td>\n",
              "      <td>2014-08-16 15:35:37 UTC</td>\n",
              "    </tr>\n",
              "    <tr>\n",
              "      <th>3</th>\n",
              "      <td>121</td>\n",
              "      <td>1</td>\n",
              "      <td>open</td>\n",
              "      <td>brisbane-ca-teriyaki-house-server</td>\n",
              "      <td>Server @ Teriyaki House</td>\n",
              "      <td>Server</td>\n",
              "      <td>Teriyaki House</td>\n",
              "      <td>Brisbane</td>\n",
              "      <td>California</td>\n",
              "      <td>CA</td>\n",
              "      <td>...</td>\n",
              "      <td>Food and Beverages</td>\n",
              "      <td>● Serve food/drinks to customers in a profess...</td>\n",
              "      <td>NaN</td>\n",
              "      <td>10.55</td>\n",
              "      <td>NaN</td>\n",
              "      <td>NaN</td>\n",
              "      <td>Part-Time</td>\n",
              "      <td>NaN</td>\n",
              "      <td>2013-09-04 15:40:30 UTC</td>\n",
              "      <td>2014-08-16 15:35:38 UTC</td>\n",
              "    </tr>\n",
              "    <tr>\n",
              "      <th>4</th>\n",
              "      <td>127</td>\n",
              "      <td>1</td>\n",
              "      <td>open</td>\n",
              "      <td>los-angeles-ca-rosa-mexicano-sunset-kitchen-st...</td>\n",
              "      <td>Kitchen Staff/Chef @ Rosa Mexicano - Sunset</td>\n",
              "      <td>Kitchen Staff/Chef</td>\n",
              "      <td>Rosa Mexicano - Sunset</td>\n",
              "      <td>Los Angeles</td>\n",
              "      <td>California</td>\n",
              "      <td>CA</td>\n",
              "      <td>...</td>\n",
              "      <td>Food and Beverages</td>\n",
              "      <td>Located at the heart of Hollywood, we are one ...</td>\n",
              "      <td>NaN</td>\n",
              "      <td>10.55</td>\n",
              "      <td>NaN</td>\n",
              "      <td>NaN</td>\n",
              "      <td>Part-Time</td>\n",
              "      <td>NaN</td>\n",
              "      <td>2013-07-17 15:26:18 UTC</td>\n",
              "      <td>2014-08-16 15:35:40 UTC</td>\n",
              "    </tr>\n",
              "  </tbody>\n",
              "</table>\n",
              "<p>5 rows × 23 columns</p>\n",
              "</div>\n",
              "    <div class=\"colab-df-buttons\">\n",
              "\n",
              "  <div class=\"colab-df-container\">\n",
              "    <button class=\"colab-df-convert\" onclick=\"convertToInteractive('df-9d81d270-89a4-4536-b179-6dc9dac0264f')\"\n",
              "            title=\"Convert this dataframe to an interactive table.\"\n",
              "            style=\"display:none;\">\n",
              "\n",
              "  <svg xmlns=\"http://www.w3.org/2000/svg\" height=\"24px\" viewBox=\"0 -960 960 960\">\n",
              "    <path d=\"M120-120v-720h720v720H120Zm60-500h600v-160H180v160Zm220 220h160v-160H400v160Zm0 220h160v-160H400v160ZM180-400h160v-160H180v160Zm440 0h160v-160H620v160ZM180-180h160v-160H180v160Zm440 0h160v-160H620v160Z\"/>\n",
              "  </svg>\n",
              "    </button>\n",
              "\n",
              "  <style>\n",
              "    .colab-df-container {\n",
              "      display:flex;\n",
              "      gap: 12px;\n",
              "    }\n",
              "\n",
              "    .colab-df-convert {\n",
              "      background-color: #E8F0FE;\n",
              "      border: none;\n",
              "      border-radius: 50%;\n",
              "      cursor: pointer;\n",
              "      display: none;\n",
              "      fill: #1967D2;\n",
              "      height: 32px;\n",
              "      padding: 0 0 0 0;\n",
              "      width: 32px;\n",
              "    }\n",
              "\n",
              "    .colab-df-convert:hover {\n",
              "      background-color: #E2EBFA;\n",
              "      box-shadow: 0px 1px 2px rgba(60, 64, 67, 0.3), 0px 1px 3px 1px rgba(60, 64, 67, 0.15);\n",
              "      fill: #174EA6;\n",
              "    }\n",
              "\n",
              "    .colab-df-buttons div {\n",
              "      margin-bottom: 4px;\n",
              "    }\n",
              "\n",
              "    [theme=dark] .colab-df-convert {\n",
              "      background-color: #3B4455;\n",
              "      fill: #D2E3FC;\n",
              "    }\n",
              "\n",
              "    [theme=dark] .colab-df-convert:hover {\n",
              "      background-color: #434B5C;\n",
              "      box-shadow: 0px 1px 3px 1px rgba(0, 0, 0, 0.15);\n",
              "      filter: drop-shadow(0px 1px 2px rgba(0, 0, 0, 0.3));\n",
              "      fill: #FFFFFF;\n",
              "    }\n",
              "  </style>\n",
              "\n",
              "    <script>\n",
              "      const buttonEl =\n",
              "        document.querySelector('#df-9d81d270-89a4-4536-b179-6dc9dac0264f button.colab-df-convert');\n",
              "      buttonEl.style.display =\n",
              "        google.colab.kernel.accessAllowed ? 'block' : 'none';\n",
              "\n",
              "      async function convertToInteractive(key) {\n",
              "        const element = document.querySelector('#df-9d81d270-89a4-4536-b179-6dc9dac0264f');\n",
              "        const dataTable =\n",
              "          await google.colab.kernel.invokeFunction('convertToInteractive',\n",
              "                                                    [key], {});\n",
              "        if (!dataTable) return;\n",
              "\n",
              "        const docLinkHtml = 'Like what you see? Visit the ' +\n",
              "          '<a target=\"_blank\" href=https://colab.research.google.com/notebooks/data_table.ipynb>data table notebook</a>'\n",
              "          + ' to learn more about interactive tables.';\n",
              "        element.innerHTML = '';\n",
              "        dataTable['output_type'] = 'display_data';\n",
              "        await google.colab.output.renderOutput(dataTable, element);\n",
              "        const docLink = document.createElement('div');\n",
              "        docLink.innerHTML = docLinkHtml;\n",
              "        element.appendChild(docLink);\n",
              "      }\n",
              "    </script>\n",
              "  </div>\n",
              "\n",
              "\n",
              "<div id=\"df-adb03f24-a3fe-4d88-82fc-57fbaee0c3b5\">\n",
              "  <button class=\"colab-df-quickchart\" onclick=\"quickchart('df-adb03f24-a3fe-4d88-82fc-57fbaee0c3b5')\"\n",
              "            title=\"Suggest charts\"\n",
              "            style=\"display:none;\">\n",
              "\n",
              "<svg xmlns=\"http://www.w3.org/2000/svg\" height=\"24px\"viewBox=\"0 0 24 24\"\n",
              "     width=\"24px\">\n",
              "    <g>\n",
              "        <path d=\"M19 3H5c-1.1 0-2 .9-2 2v14c0 1.1.9 2 2 2h14c1.1 0 2-.9 2-2V5c0-1.1-.9-2-2-2zM9 17H7v-7h2v7zm4 0h-2V7h2v10zm4 0h-2v-4h2v4z\"/>\n",
              "    </g>\n",
              "</svg>\n",
              "  </button>\n",
              "\n",
              "<style>\n",
              "  .colab-df-quickchart {\n",
              "      --bg-color: #E8F0FE;\n",
              "      --fill-color: #1967D2;\n",
              "      --hover-bg-color: #E2EBFA;\n",
              "      --hover-fill-color: #174EA6;\n",
              "      --disabled-fill-color: #AAA;\n",
              "      --disabled-bg-color: #DDD;\n",
              "  }\n",
              "\n",
              "  [theme=dark] .colab-df-quickchart {\n",
              "      --bg-color: #3B4455;\n",
              "      --fill-color: #D2E3FC;\n",
              "      --hover-bg-color: #434B5C;\n",
              "      --hover-fill-color: #FFFFFF;\n",
              "      --disabled-bg-color: #3B4455;\n",
              "      --disabled-fill-color: #666;\n",
              "  }\n",
              "\n",
              "  .colab-df-quickchart {\n",
              "    background-color: var(--bg-color);\n",
              "    border: none;\n",
              "    border-radius: 50%;\n",
              "    cursor: pointer;\n",
              "    display: none;\n",
              "    fill: var(--fill-color);\n",
              "    height: 32px;\n",
              "    padding: 0;\n",
              "    width: 32px;\n",
              "  }\n",
              "\n",
              "  .colab-df-quickchart:hover {\n",
              "    background-color: var(--hover-bg-color);\n",
              "    box-shadow: 0 1px 2px rgba(60, 64, 67, 0.3), 0 1px 3px 1px rgba(60, 64, 67, 0.15);\n",
              "    fill: var(--button-hover-fill-color);\n",
              "  }\n",
              "\n",
              "  .colab-df-quickchart-complete:disabled,\n",
              "  .colab-df-quickchart-complete:disabled:hover {\n",
              "    background-color: var(--disabled-bg-color);\n",
              "    fill: var(--disabled-fill-color);\n",
              "    box-shadow: none;\n",
              "  }\n",
              "\n",
              "  .colab-df-spinner {\n",
              "    border: 2px solid var(--fill-color);\n",
              "    border-color: transparent;\n",
              "    border-bottom-color: var(--fill-color);\n",
              "    animation:\n",
              "      spin 1s steps(1) infinite;\n",
              "  }\n",
              "\n",
              "  @keyframes spin {\n",
              "    0% {\n",
              "      border-color: transparent;\n",
              "      border-bottom-color: var(--fill-color);\n",
              "      border-left-color: var(--fill-color);\n",
              "    }\n",
              "    20% {\n",
              "      border-color: transparent;\n",
              "      border-left-color: var(--fill-color);\n",
              "      border-top-color: var(--fill-color);\n",
              "    }\n",
              "    30% {\n",
              "      border-color: transparent;\n",
              "      border-left-color: var(--fill-color);\n",
              "      border-top-color: var(--fill-color);\n",
              "      border-right-color: var(--fill-color);\n",
              "    }\n",
              "    40% {\n",
              "      border-color: transparent;\n",
              "      border-right-color: var(--fill-color);\n",
              "      border-top-color: var(--fill-color);\n",
              "    }\n",
              "    60% {\n",
              "      border-color: transparent;\n",
              "      border-right-color: var(--fill-color);\n",
              "    }\n",
              "    80% {\n",
              "      border-color: transparent;\n",
              "      border-right-color: var(--fill-color);\n",
              "      border-bottom-color: var(--fill-color);\n",
              "    }\n",
              "    90% {\n",
              "      border-color: transparent;\n",
              "      border-bottom-color: var(--fill-color);\n",
              "    }\n",
              "  }\n",
              "</style>\n",
              "\n",
              "  <script>\n",
              "    async function quickchart(key) {\n",
              "      const quickchartButtonEl =\n",
              "        document.querySelector('#' + key + ' button');\n",
              "      quickchartButtonEl.disabled = true;  // To prevent multiple clicks.\n",
              "      quickchartButtonEl.classList.add('colab-df-spinner');\n",
              "      try {\n",
              "        const charts = await google.colab.kernel.invokeFunction(\n",
              "            'suggestCharts', [key], {});\n",
              "      } catch (error) {\n",
              "        console.error('Error during call to suggestCharts:', error);\n",
              "      }\n",
              "      quickchartButtonEl.classList.remove('colab-df-spinner');\n",
              "      quickchartButtonEl.classList.add('colab-df-quickchart-complete');\n",
              "    }\n",
              "    (() => {\n",
              "      let quickchartButtonEl =\n",
              "        document.querySelector('#df-adb03f24-a3fe-4d88-82fc-57fbaee0c3b5 button');\n",
              "      quickchartButtonEl.style.display =\n",
              "        google.colab.kernel.accessAllowed ? 'block' : 'none';\n",
              "    })();\n",
              "  </script>\n",
              "</div>\n",
              "\n",
              "    </div>\n",
              "  </div>\n"
            ],
            "application/vnd.google.colaboratory.intrinsic+json": {
              "type": "dataframe",
              "variable_name": "df"
            }
          },
          "metadata": {},
          "execution_count": 181
        }
      ]
    },
    {
      "cell_type": "code",
      "source": [
        "df.tail()"
      ],
      "metadata": {
        "colab": {
          "base_uri": "https://localhost:8080/",
          "height": 585
        },
        "id": "AWunFqgQ1HQb",
        "outputId": "8ef44355-3e7c-4a78-b577-46ad9b2b5833"
      },
      "execution_count": null,
      "outputs": [
        {
          "output_type": "execute_result",
          "data": {
            "text/plain": [
              "       Job.ID  Provider Status  \\\n",
              "84085      82         1   open   \n",
              "84086      83         1   open   \n",
              "84087      84         1   open   \n",
              "84088      88         1   open   \n",
              "84089      92         1   open   \n",
              "\n",
              "                                                    Slug  \\\n",
              "84085  san-francisco-ca-national-japanese-american-hi...   \n",
              "84086       larkspur-ca-emporio-rulli-kitchen-staff-chef   \n",
              "84087                san-francisco-ca-onigilly-driver-84   \n",
              "84088  san-francisco-ca-machka-restaurants-corp-line-...   \n",
              "84089               san-jose-ca-kazoo-restaurant-cashier   \n",
              "\n",
              "                                                   Title            Position  \\\n",
              "84085  Book Keeper @ National Japanese American Histo...         Book Keeper   \n",
              "84086                 Kitchen Staff/Chef @ Emporio Rulli  Kitchen Staff/Chef   \n",
              "84087                                  Driver @ Onigilly              Driver   \n",
              "84088               Line Cook @ Machka Restaurants Corp.           Line Cook   \n",
              "84089                         Cashier @ Kazoo Restaurant             Cashier   \n",
              "\n",
              "                                             Company           City  \\\n",
              "84085  National Japanese American Historical Society  San Francisco   \n",
              "84086                                  Emporio Rulli       Larkspur   \n",
              "84087                                       Onigilly  San Francisco   \n",
              "84088                       Machka Restaurants Corp.  San Francisco   \n",
              "84089                               Kazoo Restaurant       San Jose   \n",
              "\n",
              "       State.Name State.Code  ...               Industry  \\\n",
              "84085  California         CA  ...  Office Administration   \n",
              "84086  California         CA  ...     Food and Beverages   \n",
              "84087  California         CA  ...     Food and Beverages   \n",
              "84088  California         CA  ...     Food and Beverages   \n",
              "84089  California         CA  ...     Food and Beverages   \n",
              "\n",
              "                                         Job.Description  Requirements Salary  \\\n",
              "84085  NJAHS stands for National Japanese American Hi...           NaN  20.00   \n",
              "84086  Weekend Brunch Line Cook \\r\\n● Other shifts ma...           NaN  10.55   \n",
              "84087  ONIGILLY (Japanese rice ball wraps) seeks outg...           NaN  11.00   \n",
              "84088  We are a popular Mediterranean restaurant in F...           NaN  13.00   \n",
              "84089   We are looking for a cashier! \\r\\n\\r\\n ● Take...           NaN  10.00   \n",
              "\n",
              "      Listing.Start  Listing.End  Employment.Type Education.Required  \\\n",
              "84085           NaN          NaN        Part-Time                NaN   \n",
              "84086           NaN          NaN        Part-Time                NaN   \n",
              "84087           NaN          NaN        Part-Time                NaN   \n",
              "84088           NaN          NaN        Part-Time                NaN   \n",
              "84089           NaN          NaN        Part-Time                NaN   \n",
              "\n",
              "                    Created.At               Updated.At  \n",
              "84085  2013-03-20 06:35:01 UTC  2014-08-16 15:35:27 UTC  \n",
              "84086  2013-03-20 08:06:43 UTC  2014-08-16 15:35:27 UTC  \n",
              "84087  2013-03-12 01:47:13 UTC  2014-08-16 15:35:27 UTC  \n",
              "84088  2013-07-16 08:55:22 UTC  2014-08-16 15:35:28 UTC  \n",
              "84089  2013-03-27 09:35:04 UTC  2014-08-16 15:35:30 UTC  \n",
              "\n",
              "[5 rows x 23 columns]"
            ],
            "text/html": [
              "\n",
              "  <div id=\"df-03c518b4-22de-40ea-b412-f3e92ac35dfa\" class=\"colab-df-container\">\n",
              "    <div>\n",
              "<style scoped>\n",
              "    .dataframe tbody tr th:only-of-type {\n",
              "        vertical-align: middle;\n",
              "    }\n",
              "\n",
              "    .dataframe tbody tr th {\n",
              "        vertical-align: top;\n",
              "    }\n",
              "\n",
              "    .dataframe thead th {\n",
              "        text-align: right;\n",
              "    }\n",
              "</style>\n",
              "<table border=\"1\" class=\"dataframe\">\n",
              "  <thead>\n",
              "    <tr style=\"text-align: right;\">\n",
              "      <th></th>\n",
              "      <th>Job.ID</th>\n",
              "      <th>Provider</th>\n",
              "      <th>Status</th>\n",
              "      <th>Slug</th>\n",
              "      <th>Title</th>\n",
              "      <th>Position</th>\n",
              "      <th>Company</th>\n",
              "      <th>City</th>\n",
              "      <th>State.Name</th>\n",
              "      <th>State.Code</th>\n",
              "      <th>...</th>\n",
              "      <th>Industry</th>\n",
              "      <th>Job.Description</th>\n",
              "      <th>Requirements</th>\n",
              "      <th>Salary</th>\n",
              "      <th>Listing.Start</th>\n",
              "      <th>Listing.End</th>\n",
              "      <th>Employment.Type</th>\n",
              "      <th>Education.Required</th>\n",
              "      <th>Created.At</th>\n",
              "      <th>Updated.At</th>\n",
              "    </tr>\n",
              "  </thead>\n",
              "  <tbody>\n",
              "    <tr>\n",
              "      <th>84085</th>\n",
              "      <td>82</td>\n",
              "      <td>1</td>\n",
              "      <td>open</td>\n",
              "      <td>san-francisco-ca-national-japanese-american-hi...</td>\n",
              "      <td>Book Keeper @ National Japanese American Histo...</td>\n",
              "      <td>Book Keeper</td>\n",
              "      <td>National Japanese American Historical Society</td>\n",
              "      <td>San Francisco</td>\n",
              "      <td>California</td>\n",
              "      <td>CA</td>\n",
              "      <td>...</td>\n",
              "      <td>Office Administration</td>\n",
              "      <td>NJAHS stands for National Japanese American Hi...</td>\n",
              "      <td>NaN</td>\n",
              "      <td>20.00</td>\n",
              "      <td>NaN</td>\n",
              "      <td>NaN</td>\n",
              "      <td>Part-Time</td>\n",
              "      <td>NaN</td>\n",
              "      <td>2013-03-20 06:35:01 UTC</td>\n",
              "      <td>2014-08-16 15:35:27 UTC</td>\n",
              "    </tr>\n",
              "    <tr>\n",
              "      <th>84086</th>\n",
              "      <td>83</td>\n",
              "      <td>1</td>\n",
              "      <td>open</td>\n",
              "      <td>larkspur-ca-emporio-rulli-kitchen-staff-chef</td>\n",
              "      <td>Kitchen Staff/Chef @ Emporio Rulli</td>\n",
              "      <td>Kitchen Staff/Chef</td>\n",
              "      <td>Emporio Rulli</td>\n",
              "      <td>Larkspur</td>\n",
              "      <td>California</td>\n",
              "      <td>CA</td>\n",
              "      <td>...</td>\n",
              "      <td>Food and Beverages</td>\n",
              "      <td>Weekend Brunch Line Cook \\r\\n● Other shifts ma...</td>\n",
              "      <td>NaN</td>\n",
              "      <td>10.55</td>\n",
              "      <td>NaN</td>\n",
              "      <td>NaN</td>\n",
              "      <td>Part-Time</td>\n",
              "      <td>NaN</td>\n",
              "      <td>2013-03-20 08:06:43 UTC</td>\n",
              "      <td>2014-08-16 15:35:27 UTC</td>\n",
              "    </tr>\n",
              "    <tr>\n",
              "      <th>84087</th>\n",
              "      <td>84</td>\n",
              "      <td>1</td>\n",
              "      <td>open</td>\n",
              "      <td>san-francisco-ca-onigilly-driver-84</td>\n",
              "      <td>Driver @ Onigilly</td>\n",
              "      <td>Driver</td>\n",
              "      <td>Onigilly</td>\n",
              "      <td>San Francisco</td>\n",
              "      <td>California</td>\n",
              "      <td>CA</td>\n",
              "      <td>...</td>\n",
              "      <td>Food and Beverages</td>\n",
              "      <td>ONIGILLY (Japanese rice ball wraps) seeks outg...</td>\n",
              "      <td>NaN</td>\n",
              "      <td>11.00</td>\n",
              "      <td>NaN</td>\n",
              "      <td>NaN</td>\n",
              "      <td>Part-Time</td>\n",
              "      <td>NaN</td>\n",
              "      <td>2013-03-12 01:47:13 UTC</td>\n",
              "      <td>2014-08-16 15:35:27 UTC</td>\n",
              "    </tr>\n",
              "    <tr>\n",
              "      <th>84088</th>\n",
              "      <td>88</td>\n",
              "      <td>1</td>\n",
              "      <td>open</td>\n",
              "      <td>san-francisco-ca-machka-restaurants-corp-line-...</td>\n",
              "      <td>Line Cook @ Machka Restaurants Corp.</td>\n",
              "      <td>Line Cook</td>\n",
              "      <td>Machka Restaurants Corp.</td>\n",
              "      <td>San Francisco</td>\n",
              "      <td>California</td>\n",
              "      <td>CA</td>\n",
              "      <td>...</td>\n",
              "      <td>Food and Beverages</td>\n",
              "      <td>We are a popular Mediterranean restaurant in F...</td>\n",
              "      <td>NaN</td>\n",
              "      <td>13.00</td>\n",
              "      <td>NaN</td>\n",
              "      <td>NaN</td>\n",
              "      <td>Part-Time</td>\n",
              "      <td>NaN</td>\n",
              "      <td>2013-07-16 08:55:22 UTC</td>\n",
              "      <td>2014-08-16 15:35:28 UTC</td>\n",
              "    </tr>\n",
              "    <tr>\n",
              "      <th>84089</th>\n",
              "      <td>92</td>\n",
              "      <td>1</td>\n",
              "      <td>open</td>\n",
              "      <td>san-jose-ca-kazoo-restaurant-cashier</td>\n",
              "      <td>Cashier @ Kazoo Restaurant</td>\n",
              "      <td>Cashier</td>\n",
              "      <td>Kazoo Restaurant</td>\n",
              "      <td>San Jose</td>\n",
              "      <td>California</td>\n",
              "      <td>CA</td>\n",
              "      <td>...</td>\n",
              "      <td>Food and Beverages</td>\n",
              "      <td>We are looking for a cashier! \\r\\n\\r\\n ● Take...</td>\n",
              "      <td>NaN</td>\n",
              "      <td>10.00</td>\n",
              "      <td>NaN</td>\n",
              "      <td>NaN</td>\n",
              "      <td>Part-Time</td>\n",
              "      <td>NaN</td>\n",
              "      <td>2013-03-27 09:35:04 UTC</td>\n",
              "      <td>2014-08-16 15:35:30 UTC</td>\n",
              "    </tr>\n",
              "  </tbody>\n",
              "</table>\n",
              "<p>5 rows × 23 columns</p>\n",
              "</div>\n",
              "    <div class=\"colab-df-buttons\">\n",
              "\n",
              "  <div class=\"colab-df-container\">\n",
              "    <button class=\"colab-df-convert\" onclick=\"convertToInteractive('df-03c518b4-22de-40ea-b412-f3e92ac35dfa')\"\n",
              "            title=\"Convert this dataframe to an interactive table.\"\n",
              "            style=\"display:none;\">\n",
              "\n",
              "  <svg xmlns=\"http://www.w3.org/2000/svg\" height=\"24px\" viewBox=\"0 -960 960 960\">\n",
              "    <path d=\"M120-120v-720h720v720H120Zm60-500h600v-160H180v160Zm220 220h160v-160H400v160Zm0 220h160v-160H400v160ZM180-400h160v-160H180v160Zm440 0h160v-160H620v160ZM180-180h160v-160H180v160Zm440 0h160v-160H620v160Z\"/>\n",
              "  </svg>\n",
              "    </button>\n",
              "\n",
              "  <style>\n",
              "    .colab-df-container {\n",
              "      display:flex;\n",
              "      gap: 12px;\n",
              "    }\n",
              "\n",
              "    .colab-df-convert {\n",
              "      background-color: #E8F0FE;\n",
              "      border: none;\n",
              "      border-radius: 50%;\n",
              "      cursor: pointer;\n",
              "      display: none;\n",
              "      fill: #1967D2;\n",
              "      height: 32px;\n",
              "      padding: 0 0 0 0;\n",
              "      width: 32px;\n",
              "    }\n",
              "\n",
              "    .colab-df-convert:hover {\n",
              "      background-color: #E2EBFA;\n",
              "      box-shadow: 0px 1px 2px rgba(60, 64, 67, 0.3), 0px 1px 3px 1px rgba(60, 64, 67, 0.15);\n",
              "      fill: #174EA6;\n",
              "    }\n",
              "\n",
              "    .colab-df-buttons div {\n",
              "      margin-bottom: 4px;\n",
              "    }\n",
              "\n",
              "    [theme=dark] .colab-df-convert {\n",
              "      background-color: #3B4455;\n",
              "      fill: #D2E3FC;\n",
              "    }\n",
              "\n",
              "    [theme=dark] .colab-df-convert:hover {\n",
              "      background-color: #434B5C;\n",
              "      box-shadow: 0px 1px 3px 1px rgba(0, 0, 0, 0.15);\n",
              "      filter: drop-shadow(0px 1px 2px rgba(0, 0, 0, 0.3));\n",
              "      fill: #FFFFFF;\n",
              "    }\n",
              "  </style>\n",
              "\n",
              "    <script>\n",
              "      const buttonEl =\n",
              "        document.querySelector('#df-03c518b4-22de-40ea-b412-f3e92ac35dfa button.colab-df-convert');\n",
              "      buttonEl.style.display =\n",
              "        google.colab.kernel.accessAllowed ? 'block' : 'none';\n",
              "\n",
              "      async function convertToInteractive(key) {\n",
              "        const element = document.querySelector('#df-03c518b4-22de-40ea-b412-f3e92ac35dfa');\n",
              "        const dataTable =\n",
              "          await google.colab.kernel.invokeFunction('convertToInteractive',\n",
              "                                                    [key], {});\n",
              "        if (!dataTable) return;\n",
              "\n",
              "        const docLinkHtml = 'Like what you see? Visit the ' +\n",
              "          '<a target=\"_blank\" href=https://colab.research.google.com/notebooks/data_table.ipynb>data table notebook</a>'\n",
              "          + ' to learn more about interactive tables.';\n",
              "        element.innerHTML = '';\n",
              "        dataTable['output_type'] = 'display_data';\n",
              "        await google.colab.output.renderOutput(dataTable, element);\n",
              "        const docLink = document.createElement('div');\n",
              "        docLink.innerHTML = docLinkHtml;\n",
              "        element.appendChild(docLink);\n",
              "      }\n",
              "    </script>\n",
              "  </div>\n",
              "\n",
              "\n",
              "<div id=\"df-29354b13-2c16-41f0-b69a-af929d3bcae9\">\n",
              "  <button class=\"colab-df-quickchart\" onclick=\"quickchart('df-29354b13-2c16-41f0-b69a-af929d3bcae9')\"\n",
              "            title=\"Suggest charts\"\n",
              "            style=\"display:none;\">\n",
              "\n",
              "<svg xmlns=\"http://www.w3.org/2000/svg\" height=\"24px\"viewBox=\"0 0 24 24\"\n",
              "     width=\"24px\">\n",
              "    <g>\n",
              "        <path d=\"M19 3H5c-1.1 0-2 .9-2 2v14c0 1.1.9 2 2 2h14c1.1 0 2-.9 2-2V5c0-1.1-.9-2-2-2zM9 17H7v-7h2v7zm4 0h-2V7h2v10zm4 0h-2v-4h2v4z\"/>\n",
              "    </g>\n",
              "</svg>\n",
              "  </button>\n",
              "\n",
              "<style>\n",
              "  .colab-df-quickchart {\n",
              "      --bg-color: #E8F0FE;\n",
              "      --fill-color: #1967D2;\n",
              "      --hover-bg-color: #E2EBFA;\n",
              "      --hover-fill-color: #174EA6;\n",
              "      --disabled-fill-color: #AAA;\n",
              "      --disabled-bg-color: #DDD;\n",
              "  }\n",
              "\n",
              "  [theme=dark] .colab-df-quickchart {\n",
              "      --bg-color: #3B4455;\n",
              "      --fill-color: #D2E3FC;\n",
              "      --hover-bg-color: #434B5C;\n",
              "      --hover-fill-color: #FFFFFF;\n",
              "      --disabled-bg-color: #3B4455;\n",
              "      --disabled-fill-color: #666;\n",
              "  }\n",
              "\n",
              "  .colab-df-quickchart {\n",
              "    background-color: var(--bg-color);\n",
              "    border: none;\n",
              "    border-radius: 50%;\n",
              "    cursor: pointer;\n",
              "    display: none;\n",
              "    fill: var(--fill-color);\n",
              "    height: 32px;\n",
              "    padding: 0;\n",
              "    width: 32px;\n",
              "  }\n",
              "\n",
              "  .colab-df-quickchart:hover {\n",
              "    background-color: var(--hover-bg-color);\n",
              "    box-shadow: 0 1px 2px rgba(60, 64, 67, 0.3), 0 1px 3px 1px rgba(60, 64, 67, 0.15);\n",
              "    fill: var(--button-hover-fill-color);\n",
              "  }\n",
              "\n",
              "  .colab-df-quickchart-complete:disabled,\n",
              "  .colab-df-quickchart-complete:disabled:hover {\n",
              "    background-color: var(--disabled-bg-color);\n",
              "    fill: var(--disabled-fill-color);\n",
              "    box-shadow: none;\n",
              "  }\n",
              "\n",
              "  .colab-df-spinner {\n",
              "    border: 2px solid var(--fill-color);\n",
              "    border-color: transparent;\n",
              "    border-bottom-color: var(--fill-color);\n",
              "    animation:\n",
              "      spin 1s steps(1) infinite;\n",
              "  }\n",
              "\n",
              "  @keyframes spin {\n",
              "    0% {\n",
              "      border-color: transparent;\n",
              "      border-bottom-color: var(--fill-color);\n",
              "      border-left-color: var(--fill-color);\n",
              "    }\n",
              "    20% {\n",
              "      border-color: transparent;\n",
              "      border-left-color: var(--fill-color);\n",
              "      border-top-color: var(--fill-color);\n",
              "    }\n",
              "    30% {\n",
              "      border-color: transparent;\n",
              "      border-left-color: var(--fill-color);\n",
              "      border-top-color: var(--fill-color);\n",
              "      border-right-color: var(--fill-color);\n",
              "    }\n",
              "    40% {\n",
              "      border-color: transparent;\n",
              "      border-right-color: var(--fill-color);\n",
              "      border-top-color: var(--fill-color);\n",
              "    }\n",
              "    60% {\n",
              "      border-color: transparent;\n",
              "      border-right-color: var(--fill-color);\n",
              "    }\n",
              "    80% {\n",
              "      border-color: transparent;\n",
              "      border-right-color: var(--fill-color);\n",
              "      border-bottom-color: var(--fill-color);\n",
              "    }\n",
              "    90% {\n",
              "      border-color: transparent;\n",
              "      border-bottom-color: var(--fill-color);\n",
              "    }\n",
              "  }\n",
              "</style>\n",
              "\n",
              "  <script>\n",
              "    async function quickchart(key) {\n",
              "      const quickchartButtonEl =\n",
              "        document.querySelector('#' + key + ' button');\n",
              "      quickchartButtonEl.disabled = true;  // To prevent multiple clicks.\n",
              "      quickchartButtonEl.classList.add('colab-df-spinner');\n",
              "      try {\n",
              "        const charts = await google.colab.kernel.invokeFunction(\n",
              "            'suggestCharts', [key], {});\n",
              "      } catch (error) {\n",
              "        console.error('Error during call to suggestCharts:', error);\n",
              "      }\n",
              "      quickchartButtonEl.classList.remove('colab-df-spinner');\n",
              "      quickchartButtonEl.classList.add('colab-df-quickchart-complete');\n",
              "    }\n",
              "    (() => {\n",
              "      let quickchartButtonEl =\n",
              "        document.querySelector('#df-29354b13-2c16-41f0-b69a-af929d3bcae9 button');\n",
              "      quickchartButtonEl.style.display =\n",
              "        google.colab.kernel.accessAllowed ? 'block' : 'none';\n",
              "    })();\n",
              "  </script>\n",
              "</div>\n",
              "\n",
              "    </div>\n",
              "  </div>\n"
            ],
            "application/vnd.google.colaboratory.intrinsic+json": {
              "type": "dataframe"
            }
          },
          "metadata": {},
          "execution_count": 182
        }
      ]
    },
    {
      "cell_type": "code",
      "source": [
        "df.info() #finding basic information of all columns"
      ],
      "metadata": {
        "colab": {
          "base_uri": "https://localhost:8080/"
        },
        "id": "Nm1zPxLl1KzN",
        "outputId": "621a318b-f1f3-4b1a-b360-e22a80dd99e8"
      },
      "execution_count": null,
      "outputs": [
        {
          "output_type": "stream",
          "name": "stdout",
          "text": [
            "<class 'pandas.core.frame.DataFrame'>\n",
            "RangeIndex: 84090 entries, 0 to 84089\n",
            "Data columns (total 23 columns):\n",
            " #   Column              Non-Null Count  Dtype  \n",
            "---  ------              --------------  -----  \n",
            " 0   Job.ID              84090 non-null  int64  \n",
            " 1   Provider            84090 non-null  int64  \n",
            " 2   Status              84090 non-null  object \n",
            " 3   Slug                84090 non-null  object \n",
            " 4   Title               84090 non-null  object \n",
            " 5   Position            84090 non-null  object \n",
            " 6   Company             81819 non-null  object \n",
            " 7   City                83955 non-null  object \n",
            " 8   State.Name          83919 non-null  object \n",
            " 9   State.Code          83919 non-null  object \n",
            " 10  Address             36 non-null     object \n",
            " 11  Latitude            84090 non-null  float64\n",
            " 12  Longitude           84090 non-null  float64\n",
            " 13  Industry            267 non-null    object \n",
            " 14  Job.Description     84034 non-null  object \n",
            " 15  Requirements        0 non-null      float64\n",
            " 16  Salary              229 non-null    float64\n",
            " 17  Listing.Start       83407 non-null  object \n",
            " 18  Listing.End         83923 non-null  object \n",
            " 19  Employment.Type     84080 non-null  object \n",
            " 20  Education.Required  83823 non-null  object \n",
            " 21  Created.At          84090 non-null  object \n",
            " 22  Updated.At          84090 non-null  object \n",
            "dtypes: float64(4), int64(2), object(17)\n",
            "memory usage: 14.8+ MB\n"
          ]
        }
      ]
    },
    {
      "cell_type": "code",
      "source": [
        "df = df[['Title', 'Job.Description']]"
      ],
      "metadata": {
        "id": "qmnfHDSJxv93"
      },
      "execution_count": null,
      "outputs": []
    },
    {
      "cell_type": "code",
      "source": [
        "df.head(3)"
      ],
      "metadata": {
        "colab": {
          "base_uri": "https://localhost:8080/",
          "height": 143
        },
        "id": "T5M-PgQYATnN",
        "outputId": "ba654d04-e052-4f48-89b2-3c03e948baa5"
      },
      "execution_count": null,
      "outputs": [
        {
          "output_type": "execute_result",
          "data": {
            "text/plain": [
              "                                  Title  \\\n",
              "0                  Server @ Tacolicious   \n",
              "1      Kitchen Staff/Chef @ Claude Lane   \n",
              "2  Bartender @ Machka Restaurants Corp.   \n",
              "\n",
              "                                     Job.Description  \n",
              "0  Tacolicious' first Palo Alto store just opened...  \n",
              "1   \\r\\n\\r\\nNew French Brasserie in S.F. Financia...  \n",
              "2  We are a popular Mediterranean wine bar and re...  "
            ],
            "text/html": [
              "\n",
              "  <div id=\"df-f71a2f43-86c4-4d47-bd86-c270056d5288\" class=\"colab-df-container\">\n",
              "    <div>\n",
              "<style scoped>\n",
              "    .dataframe tbody tr th:only-of-type {\n",
              "        vertical-align: middle;\n",
              "    }\n",
              "\n",
              "    .dataframe tbody tr th {\n",
              "        vertical-align: top;\n",
              "    }\n",
              "\n",
              "    .dataframe thead th {\n",
              "        text-align: right;\n",
              "    }\n",
              "</style>\n",
              "<table border=\"1\" class=\"dataframe\">\n",
              "  <thead>\n",
              "    <tr style=\"text-align: right;\">\n",
              "      <th></th>\n",
              "      <th>Title</th>\n",
              "      <th>Job.Description</th>\n",
              "    </tr>\n",
              "  </thead>\n",
              "  <tbody>\n",
              "    <tr>\n",
              "      <th>0</th>\n",
              "      <td>Server @ Tacolicious</td>\n",
              "      <td>Tacolicious' first Palo Alto store just opened...</td>\n",
              "    </tr>\n",
              "    <tr>\n",
              "      <th>1</th>\n",
              "      <td>Kitchen Staff/Chef @ Claude Lane</td>\n",
              "      <td>\\r\\n\\r\\nNew French Brasserie in S.F. Financia...</td>\n",
              "    </tr>\n",
              "    <tr>\n",
              "      <th>2</th>\n",
              "      <td>Bartender @ Machka Restaurants Corp.</td>\n",
              "      <td>We are a popular Mediterranean wine bar and re...</td>\n",
              "    </tr>\n",
              "  </tbody>\n",
              "</table>\n",
              "</div>\n",
              "    <div class=\"colab-df-buttons\">\n",
              "\n",
              "  <div class=\"colab-df-container\">\n",
              "    <button class=\"colab-df-convert\" onclick=\"convertToInteractive('df-f71a2f43-86c4-4d47-bd86-c270056d5288')\"\n",
              "            title=\"Convert this dataframe to an interactive table.\"\n",
              "            style=\"display:none;\">\n",
              "\n",
              "  <svg xmlns=\"http://www.w3.org/2000/svg\" height=\"24px\" viewBox=\"0 -960 960 960\">\n",
              "    <path d=\"M120-120v-720h720v720H120Zm60-500h600v-160H180v160Zm220 220h160v-160H400v160Zm0 220h160v-160H400v160ZM180-400h160v-160H180v160Zm440 0h160v-160H620v160ZM180-180h160v-160H180v160Zm440 0h160v-160H620v160Z\"/>\n",
              "  </svg>\n",
              "    </button>\n",
              "\n",
              "  <style>\n",
              "    .colab-df-container {\n",
              "      display:flex;\n",
              "      gap: 12px;\n",
              "    }\n",
              "\n",
              "    .colab-df-convert {\n",
              "      background-color: #E8F0FE;\n",
              "      border: none;\n",
              "      border-radius: 50%;\n",
              "      cursor: pointer;\n",
              "      display: none;\n",
              "      fill: #1967D2;\n",
              "      height: 32px;\n",
              "      padding: 0 0 0 0;\n",
              "      width: 32px;\n",
              "    }\n",
              "\n",
              "    .colab-df-convert:hover {\n",
              "      background-color: #E2EBFA;\n",
              "      box-shadow: 0px 1px 2px rgba(60, 64, 67, 0.3), 0px 1px 3px 1px rgba(60, 64, 67, 0.15);\n",
              "      fill: #174EA6;\n",
              "    }\n",
              "\n",
              "    .colab-df-buttons div {\n",
              "      margin-bottom: 4px;\n",
              "    }\n",
              "\n",
              "    [theme=dark] .colab-df-convert {\n",
              "      background-color: #3B4455;\n",
              "      fill: #D2E3FC;\n",
              "    }\n",
              "\n",
              "    [theme=dark] .colab-df-convert:hover {\n",
              "      background-color: #434B5C;\n",
              "      box-shadow: 0px 1px 3px 1px rgba(0, 0, 0, 0.15);\n",
              "      filter: drop-shadow(0px 1px 2px rgba(0, 0, 0, 0.3));\n",
              "      fill: #FFFFFF;\n",
              "    }\n",
              "  </style>\n",
              "\n",
              "    <script>\n",
              "      const buttonEl =\n",
              "        document.querySelector('#df-f71a2f43-86c4-4d47-bd86-c270056d5288 button.colab-df-convert');\n",
              "      buttonEl.style.display =\n",
              "        google.colab.kernel.accessAllowed ? 'block' : 'none';\n",
              "\n",
              "      async function convertToInteractive(key) {\n",
              "        const element = document.querySelector('#df-f71a2f43-86c4-4d47-bd86-c270056d5288');\n",
              "        const dataTable =\n",
              "          await google.colab.kernel.invokeFunction('convertToInteractive',\n",
              "                                                    [key], {});\n",
              "        if (!dataTable) return;\n",
              "\n",
              "        const docLinkHtml = 'Like what you see? Visit the ' +\n",
              "          '<a target=\"_blank\" href=https://colab.research.google.com/notebooks/data_table.ipynb>data table notebook</a>'\n",
              "          + ' to learn more about interactive tables.';\n",
              "        element.innerHTML = '';\n",
              "        dataTable['output_type'] = 'display_data';\n",
              "        await google.colab.output.renderOutput(dataTable, element);\n",
              "        const docLink = document.createElement('div');\n",
              "        docLink.innerHTML = docLinkHtml;\n",
              "        element.appendChild(docLink);\n",
              "      }\n",
              "    </script>\n",
              "  </div>\n",
              "\n",
              "\n",
              "<div id=\"df-0b32eb5c-ec45-44cf-8d02-d2525677171a\">\n",
              "  <button class=\"colab-df-quickchart\" onclick=\"quickchart('df-0b32eb5c-ec45-44cf-8d02-d2525677171a')\"\n",
              "            title=\"Suggest charts\"\n",
              "            style=\"display:none;\">\n",
              "\n",
              "<svg xmlns=\"http://www.w3.org/2000/svg\" height=\"24px\"viewBox=\"0 0 24 24\"\n",
              "     width=\"24px\">\n",
              "    <g>\n",
              "        <path d=\"M19 3H5c-1.1 0-2 .9-2 2v14c0 1.1.9 2 2 2h14c1.1 0 2-.9 2-2V5c0-1.1-.9-2-2-2zM9 17H7v-7h2v7zm4 0h-2V7h2v10zm4 0h-2v-4h2v4z\"/>\n",
              "    </g>\n",
              "</svg>\n",
              "  </button>\n",
              "\n",
              "<style>\n",
              "  .colab-df-quickchart {\n",
              "      --bg-color: #E8F0FE;\n",
              "      --fill-color: #1967D2;\n",
              "      --hover-bg-color: #E2EBFA;\n",
              "      --hover-fill-color: #174EA6;\n",
              "      --disabled-fill-color: #AAA;\n",
              "      --disabled-bg-color: #DDD;\n",
              "  }\n",
              "\n",
              "  [theme=dark] .colab-df-quickchart {\n",
              "      --bg-color: #3B4455;\n",
              "      --fill-color: #D2E3FC;\n",
              "      --hover-bg-color: #434B5C;\n",
              "      --hover-fill-color: #FFFFFF;\n",
              "      --disabled-bg-color: #3B4455;\n",
              "      --disabled-fill-color: #666;\n",
              "  }\n",
              "\n",
              "  .colab-df-quickchart {\n",
              "    background-color: var(--bg-color);\n",
              "    border: none;\n",
              "    border-radius: 50%;\n",
              "    cursor: pointer;\n",
              "    display: none;\n",
              "    fill: var(--fill-color);\n",
              "    height: 32px;\n",
              "    padding: 0;\n",
              "    width: 32px;\n",
              "  }\n",
              "\n",
              "  .colab-df-quickchart:hover {\n",
              "    background-color: var(--hover-bg-color);\n",
              "    box-shadow: 0 1px 2px rgba(60, 64, 67, 0.3), 0 1px 3px 1px rgba(60, 64, 67, 0.15);\n",
              "    fill: var(--button-hover-fill-color);\n",
              "  }\n",
              "\n",
              "  .colab-df-quickchart-complete:disabled,\n",
              "  .colab-df-quickchart-complete:disabled:hover {\n",
              "    background-color: var(--disabled-bg-color);\n",
              "    fill: var(--disabled-fill-color);\n",
              "    box-shadow: none;\n",
              "  }\n",
              "\n",
              "  .colab-df-spinner {\n",
              "    border: 2px solid var(--fill-color);\n",
              "    border-color: transparent;\n",
              "    border-bottom-color: var(--fill-color);\n",
              "    animation:\n",
              "      spin 1s steps(1) infinite;\n",
              "  }\n",
              "\n",
              "  @keyframes spin {\n",
              "    0% {\n",
              "      border-color: transparent;\n",
              "      border-bottom-color: var(--fill-color);\n",
              "      border-left-color: var(--fill-color);\n",
              "    }\n",
              "    20% {\n",
              "      border-color: transparent;\n",
              "      border-left-color: var(--fill-color);\n",
              "      border-top-color: var(--fill-color);\n",
              "    }\n",
              "    30% {\n",
              "      border-color: transparent;\n",
              "      border-left-color: var(--fill-color);\n",
              "      border-top-color: var(--fill-color);\n",
              "      border-right-color: var(--fill-color);\n",
              "    }\n",
              "    40% {\n",
              "      border-color: transparent;\n",
              "      border-right-color: var(--fill-color);\n",
              "      border-top-color: var(--fill-color);\n",
              "    }\n",
              "    60% {\n",
              "      border-color: transparent;\n",
              "      border-right-color: var(--fill-color);\n",
              "    }\n",
              "    80% {\n",
              "      border-color: transparent;\n",
              "      border-right-color: var(--fill-color);\n",
              "      border-bottom-color: var(--fill-color);\n",
              "    }\n",
              "    90% {\n",
              "      border-color: transparent;\n",
              "      border-bottom-color: var(--fill-color);\n",
              "    }\n",
              "  }\n",
              "</style>\n",
              "\n",
              "  <script>\n",
              "    async function quickchart(key) {\n",
              "      const quickchartButtonEl =\n",
              "        document.querySelector('#' + key + ' button');\n",
              "      quickchartButtonEl.disabled = true;  // To prevent multiple clicks.\n",
              "      quickchartButtonEl.classList.add('colab-df-spinner');\n",
              "      try {\n",
              "        const charts = await google.colab.kernel.invokeFunction(\n",
              "            'suggestCharts', [key], {});\n",
              "      } catch (error) {\n",
              "        console.error('Error during call to suggestCharts:', error);\n",
              "      }\n",
              "      quickchartButtonEl.classList.remove('colab-df-spinner');\n",
              "      quickchartButtonEl.classList.add('colab-df-quickchart-complete');\n",
              "    }\n",
              "    (() => {\n",
              "      let quickchartButtonEl =\n",
              "        document.querySelector('#df-0b32eb5c-ec45-44cf-8d02-d2525677171a button');\n",
              "      quickchartButtonEl.style.display =\n",
              "        google.colab.kernel.accessAllowed ? 'block' : 'none';\n",
              "    })();\n",
              "  </script>\n",
              "</div>\n",
              "\n",
              "    </div>\n",
              "  </div>\n"
            ],
            "application/vnd.google.colaboratory.intrinsic+json": {
              "type": "dataframe",
              "variable_name": "df",
              "summary": "{\n  \"name\": \"df\",\n  \"rows\": 84090,\n  \"fields\": [\n    {\n      \"column\": \"Title\",\n      \"properties\": {\n        \"dtype\": \"category\",\n        \"num_unique_values\": 41861,\n        \"samples\": [\n          \"General Office Clerk Needed ASAP! @ OfficeTeam\",\n          \"Merchandiser/In-Store Representative-Part Time (Racine/Milwaukee, WI) @ Lonza Group\",\n          \"Temporary Mailroom Assistant (3pm - 11pm) @ OfficeTeam\"\n        ],\n        \"semantic_type\": \"\",\n        \"description\": \"\"\n      }\n    },\n    {\n      \"column\": \"Job.Description\",\n      \"properties\": {\n        \"dtype\": \"string\",\n        \"num_unique_values\": 59269,\n        \"samples\": [\n          \"Ref ID:00410-184409Classification:Accounts Payable ClerkCompensation:$19.00 to $22.00 per hourAre you interested in working at a cloud-based technology start-up in San Francisco? We are currently seeking a motivated Accounts Payable Clerk, so if you have 1+ years of experience please send us your resume!  We can be reached by email at: [Click Here to Email Your Resum\\u00e9], or phone: 415-434-1900.  Accounts Payable duties include, but are not limited to:   - Process full-cycle accounts payable. Approximately 50+ invoices per week.   - Work with vendors regarding reconciliation of invoices and payments.   - Assisting in researching and reconciling any vendor discrepancies.   - Code and enter approved invoices into the accounting system.   - Distribute and mail checks.   - File invoices and check copies.   - Maintain the vendor database. \",\n          \"Ref ID: 04210-9734279Classification: Receptionist/SwitchboardCompensation: $11.00 to $14.00 per hourThe Receptionist position is responsible for serving as a direct point of contact for a variety of internal and external customers. They are responsible for opening and closing the office, front desk reception, answering phones, greeting visitors, processing mail (including shipping and receiving), meeting planning, assisting with company function planning and support, ordering supplies, maintaining lobby area, reception handbook, facilities support, and administrative support to divisions within the office. A positive attitude, excellent communication skills, strong multitasking ability and an interest in learning new skills/technologies with the ability to take initiative in completing projects and workload related activities are requirements for the job.\",\n          \"Ref ID: 02380-114780Classification: Receptionist/SwitchboardCompensation: $10.00 to $10.00 per hourOfficeTeam is looking for a strong RECEPTIONIST to help out a client of ours for FOUR hours on Friday, December 19th, 2014 in Mission Hills, KS. This Receptionist will work ONE DAY for 10:30 am- 2:30 pm. This person will be answering the phone and taking important messages and greeting guests as they come in. This is for one day only so must be okay with working temporary. If you or someone you know has receptionist experience, please call 913-451-1014 or you may apply at www.officteam.com!!\"\n        ],\n        \"semantic_type\": \"\",\n        \"description\": \"\"\n      }\n    }\n  ]\n}"
            }
          },
          "metadata": {},
          "execution_count": 185
        }
      ]
    },
    {
      "cell_type": "code",
      "source": [
        "df['Title'][1]"
      ],
      "metadata": {
        "colab": {
          "base_uri": "https://localhost:8080/",
          "height": 36
        },
        "id": "lIypRP_0AaJE",
        "outputId": "b1eaf0c7-671d-41d5-f7f5-05845e1780dc"
      },
      "execution_count": null,
      "outputs": [
        {
          "output_type": "execute_result",
          "data": {
            "text/plain": [
              "'Kitchen Staff/Chef @ Claude Lane'"
            ],
            "application/vnd.google.colaboratory.intrinsic+json": {
              "type": "string"
            }
          },
          "metadata": {},
          "execution_count": 186
        }
      ]
    },
    {
      "cell_type": "code",
      "source": [
        "df['Job.Description'][1]"
      ],
      "metadata": {
        "colab": {
          "base_uri": "https://localhost:8080/",
          "height": 109
        },
        "id": "owGVRqGezVOx",
        "outputId": "8da95bbb-6549-415f-c769-0f279d14c857"
      },
      "execution_count": null,
      "outputs": [
        {
          "output_type": "execute_result",
          "data": {
            "text/plain": [
              "' \\r\\n\\r\\nNew French Brasserie in S.F. Financial District Seeks Chef\\r\\nWe are seeking an energetic, dynamic chef to take charge and grow with our company. Our ideal candidate is a motivated self-starter, has a great work ethic and is ready for the challenge of building their own team with executive support. \\r\\n\\r\\nThis position is a perfect fit for a talented chef ready to take the next step, someone who can multi task in a high volume kitchen and has exceptional organizational skills. Position requirements are experience with French cuisine, a minimum of 5 years as a sous chef in high volume, full service restaurant. He or she must be a team player, leading by example and working side by side with other members of the team. \\r\\n\\r\\nComputer and management skills are a must, as are experience in ordering, inventory and cost control. The right candidate will have previously demonstrated an understanding of leadership and accountability, and an infectious, energetic approach to problem solving and facing challenges. \\r\\n\\r\\nWe are an equal opportunity employer. Qualified applicants are considered for employment without regard to age, race, religion, sex, national origin, sexual orientation, disability, or veteran status. \\r\\n'"
            ],
            "application/vnd.google.colaboratory.intrinsic+json": {
              "type": "string"
            }
          },
          "metadata": {},
          "execution_count": 187
        }
      ]
    },
    {
      "cell_type": "code",
      "source": [
        "df = df.sample (n=1000,random_state=42)\n",
        "df.shape"
      ],
      "metadata": {
        "colab": {
          "base_uri": "https://localhost:8080/"
        },
        "id": "st0EnWZwEdLj",
        "outputId": "07ca0825-4747-448a-9188-5958a42a6e02"
      },
      "execution_count": null,
      "outputs": [
        {
          "output_type": "execute_result",
          "data": {
            "text/plain": [
              "(1000, 2)"
            ]
          },
          "metadata": {},
          "execution_count": 188
        }
      ]
    },
    {
      "cell_type": "code",
      "source": [
        "import nltk\n",
        "from  nltk.stem.porter import PorterStemmer\n",
        "from nltk.corpus import stopwords\n",
        "import re"
      ],
      "metadata": {
        "id": "SbPjxEVrz-fX"
      },
      "execution_count": null,
      "outputs": []
    },
    {
      "cell_type": "code",
      "source": [
        "ps = PorterStemmer()"
      ],
      "metadata": {
        "id": "JsHS48uc08KB"
      },
      "execution_count": null,
      "outputs": []
    },
    {
      "cell_type": "code",
      "source": [
        "nltk.download('stopwords')"
      ],
      "metadata": {
        "colab": {
          "base_uri": "https://localhost:8080/"
        },
        "id": "zEtEp5DWG4kK",
        "outputId": "005a90ad-32e0-43ea-f79b-3a97ac2089b5"
      },
      "execution_count": null,
      "outputs": [
        {
          "output_type": "stream",
          "name": "stderr",
          "text": [
            "[nltk_data] Downloading package stopwords to /root/nltk_data...\n",
            "[nltk_data]   Package stopwords is already up-to-date!\n"
          ]
        },
        {
          "output_type": "execute_result",
          "data": {
            "text/plain": [
              "True"
            ]
          },
          "metadata": {},
          "execution_count": 191
        }
      ]
    },
    {
      "cell_type": "code",
      "source": [
        "nltk.download('punkt')"
      ],
      "metadata": {
        "colab": {
          "base_uri": "https://localhost:8080/"
        },
        "id": "kfWERN0HEN8l",
        "outputId": "681266fe-b9c4-4902-db11-a25082f5b4f5"
      },
      "execution_count": null,
      "outputs": [
        {
          "output_type": "stream",
          "name": "stderr",
          "text": [
            "[nltk_data] Downloading package punkt to /root/nltk_data...\n",
            "[nltk_data]   Package punkt is already up-to-date!\n"
          ]
        },
        {
          "output_type": "execute_result",
          "data": {
            "text/plain": [
              "True"
            ]
          },
          "metadata": {},
          "execution_count": 192
        }
      ]
    },
    {
      "cell_type": "code",
      "source": [
        "def cleaning(txt):\n",
        "  cleaned_txt = re.sub(r'[^a-zA-Z0-9\\s]','',txt)\n",
        "  tokens = nltk.word_tokenize(cleaned_txt.lower())\n",
        "  stemming = [ps.stem(word)for word in tokens if word not in stopwords.words('english')]\n",
        "\n",
        "  return \" \".join(stemming)"
      ],
      "metadata": {
        "id": "jBiJ1ATX1DGQ"
      },
      "execution_count": null,
      "outputs": []
    },
    {
      "cell_type": "code",
      "source": [
        "cleaning('this is my book with 0987 digits loving moving driven and \\n\\n\\r &^%')"
      ],
      "metadata": {
        "colab": {
          "base_uri": "https://localhost:8080/",
          "height": 36
        },
        "id": "fKlUGfog9y5e",
        "outputId": "373fb68c-9fcd-438d-d448-e886695ddf12"
      },
      "execution_count": null,
      "outputs": [
        {
          "output_type": "execute_result",
          "data": {
            "text/plain": [
              "'book 0987 digit love move driven'"
            ],
            "application/vnd.google.colaboratory.intrinsic+json": {
              "type": "string"
            }
          },
          "metadata": {},
          "execution_count": 194
        }
      ]
    },
    {
      "cell_type": "code",
      "source": [
        "df['Title'] = df['Title'].apply(lambda x:cleaning(x))\n",
        "df['Job.Description'] = df['Job.Description'].astype(str).apply(lambda x:cleaning(x))"
      ],
      "metadata": {
        "id": "-12Gi5fs3RL2"
      },
      "execution_count": null,
      "outputs": []
    },
    {
      "cell_type": "code",
      "source": [
        "df['Job.Description'][64119]"
      ],
      "metadata": {
        "colab": {
          "base_uri": "https://localhost:8080/",
          "height": 91
        },
        "id": "H2E1EfKMJn4h",
        "outputId": "a865d677-6e9c-4c14-b1b1-f4b2bec9ce55"
      },
      "execution_count": null,
      "outputs": [
        {
          "output_type": "execute_result",
          "data": {
            "text/plain": [
              "'job summari knowledg univers ku site director site leader inspir children teacher alik learn grow passion educ excel confid teach children adult use nation recogn curriculum framework creat uniqu engag classroom experi commit make site success know meaning relationship children famili team import success fulli engag enthusiast work eager share knowledg other job respons essenti function basic expect site director cours creativ new way meet exceed expect encourag long requir essenti function also met supervis children staff record keep licens record child file lesson plan implement mainten safe welcom classroom environ build relationship commun school recruit new student program applic must strong organiz skill'"
            ],
            "application/vnd.google.colaboratory.intrinsic+json": {
              "type": "string"
            }
          },
          "metadata": {},
          "execution_count": 196
        }
      ]
    },
    {
      "cell_type": "code",
      "source": [
        "df['new col'] = df['Title'] + \" \" + df['Job.Description']"
      ],
      "metadata": {
        "id": "hpWWnBao8NvE"
      },
      "execution_count": null,
      "outputs": []
    },
    {
      "cell_type": "code",
      "source": [
        "df.head(3)"
      ],
      "metadata": {
        "colab": {
          "base_uri": "https://localhost:8080/",
          "height": 143
        },
        "id": "6yqhDvDCKi2p",
        "outputId": "5b6c3a23-fd84-47db-f814-7ab59d4f9a4d"
      },
      "execution_count": null,
      "outputs": [
        {
          "output_type": "execute_result",
          "data": {
            "text/plain": [
              "                                  Title  \\\n",
              "64119    site director knowledg univers   \n",
              "35827       administr assist officeteam   \n",
              "72100  account manag chi payment system   \n",
              "\n",
              "                                         Job.Description  \\\n",
              "64119  job summari knowledg univers ku site director ...   \n",
              "35827  ref id 03110118480classif secretaryadmin asstc...   \n",
              "72100  yoursquor energet motiv hardwork look prosper ...   \n",
              "\n",
              "                                                 new col  \n",
              "64119  site director knowledg univers job summari kno...  \n",
              "35827  administr assist officeteam ref id 03110118480...  \n",
              "72100  account manag chi payment system yoursquor ene...  "
            ],
            "text/html": [
              "\n",
              "  <div id=\"df-10daf4d3-c853-4ba1-8a66-cc5b6df2605b\" class=\"colab-df-container\">\n",
              "    <div>\n",
              "<style scoped>\n",
              "    .dataframe tbody tr th:only-of-type {\n",
              "        vertical-align: middle;\n",
              "    }\n",
              "\n",
              "    .dataframe tbody tr th {\n",
              "        vertical-align: top;\n",
              "    }\n",
              "\n",
              "    .dataframe thead th {\n",
              "        text-align: right;\n",
              "    }\n",
              "</style>\n",
              "<table border=\"1\" class=\"dataframe\">\n",
              "  <thead>\n",
              "    <tr style=\"text-align: right;\">\n",
              "      <th></th>\n",
              "      <th>Title</th>\n",
              "      <th>Job.Description</th>\n",
              "      <th>new col</th>\n",
              "    </tr>\n",
              "  </thead>\n",
              "  <tbody>\n",
              "    <tr>\n",
              "      <th>64119</th>\n",
              "      <td>site director knowledg univers</td>\n",
              "      <td>job summari knowledg univers ku site director ...</td>\n",
              "      <td>site director knowledg univers job summari kno...</td>\n",
              "    </tr>\n",
              "    <tr>\n",
              "      <th>35827</th>\n",
              "      <td>administr assist officeteam</td>\n",
              "      <td>ref id 03110118480classif secretaryadmin asstc...</td>\n",
              "      <td>administr assist officeteam ref id 03110118480...</td>\n",
              "    </tr>\n",
              "    <tr>\n",
              "      <th>72100</th>\n",
              "      <td>account manag chi payment system</td>\n",
              "      <td>yoursquor energet motiv hardwork look prosper ...</td>\n",
              "      <td>account manag chi payment system yoursquor ene...</td>\n",
              "    </tr>\n",
              "  </tbody>\n",
              "</table>\n",
              "</div>\n",
              "    <div class=\"colab-df-buttons\">\n",
              "\n",
              "  <div class=\"colab-df-container\">\n",
              "    <button class=\"colab-df-convert\" onclick=\"convertToInteractive('df-10daf4d3-c853-4ba1-8a66-cc5b6df2605b')\"\n",
              "            title=\"Convert this dataframe to an interactive table.\"\n",
              "            style=\"display:none;\">\n",
              "\n",
              "  <svg xmlns=\"http://www.w3.org/2000/svg\" height=\"24px\" viewBox=\"0 -960 960 960\">\n",
              "    <path d=\"M120-120v-720h720v720H120Zm60-500h600v-160H180v160Zm220 220h160v-160H400v160Zm0 220h160v-160H400v160ZM180-400h160v-160H180v160Zm440 0h160v-160H620v160ZM180-180h160v-160H180v160Zm440 0h160v-160H620v160Z\"/>\n",
              "  </svg>\n",
              "    </button>\n",
              "\n",
              "  <style>\n",
              "    .colab-df-container {\n",
              "      display:flex;\n",
              "      gap: 12px;\n",
              "    }\n",
              "\n",
              "    .colab-df-convert {\n",
              "      background-color: #E8F0FE;\n",
              "      border: none;\n",
              "      border-radius: 50%;\n",
              "      cursor: pointer;\n",
              "      display: none;\n",
              "      fill: #1967D2;\n",
              "      height: 32px;\n",
              "      padding: 0 0 0 0;\n",
              "      width: 32px;\n",
              "    }\n",
              "\n",
              "    .colab-df-convert:hover {\n",
              "      background-color: #E2EBFA;\n",
              "      box-shadow: 0px 1px 2px rgba(60, 64, 67, 0.3), 0px 1px 3px 1px rgba(60, 64, 67, 0.15);\n",
              "      fill: #174EA6;\n",
              "    }\n",
              "\n",
              "    .colab-df-buttons div {\n",
              "      margin-bottom: 4px;\n",
              "    }\n",
              "\n",
              "    [theme=dark] .colab-df-convert {\n",
              "      background-color: #3B4455;\n",
              "      fill: #D2E3FC;\n",
              "    }\n",
              "\n",
              "    [theme=dark] .colab-df-convert:hover {\n",
              "      background-color: #434B5C;\n",
              "      box-shadow: 0px 1px 3px 1px rgba(0, 0, 0, 0.15);\n",
              "      filter: drop-shadow(0px 1px 2px rgba(0, 0, 0, 0.3));\n",
              "      fill: #FFFFFF;\n",
              "    }\n",
              "  </style>\n",
              "\n",
              "    <script>\n",
              "      const buttonEl =\n",
              "        document.querySelector('#df-10daf4d3-c853-4ba1-8a66-cc5b6df2605b button.colab-df-convert');\n",
              "      buttonEl.style.display =\n",
              "        google.colab.kernel.accessAllowed ? 'block' : 'none';\n",
              "\n",
              "      async function convertToInteractive(key) {\n",
              "        const element = document.querySelector('#df-10daf4d3-c853-4ba1-8a66-cc5b6df2605b');\n",
              "        const dataTable =\n",
              "          await google.colab.kernel.invokeFunction('convertToInteractive',\n",
              "                                                    [key], {});\n",
              "        if (!dataTable) return;\n",
              "\n",
              "        const docLinkHtml = 'Like what you see? Visit the ' +\n",
              "          '<a target=\"_blank\" href=https://colab.research.google.com/notebooks/data_table.ipynb>data table notebook</a>'\n",
              "          + ' to learn more about interactive tables.';\n",
              "        element.innerHTML = '';\n",
              "        dataTable['output_type'] = 'display_data';\n",
              "        await google.colab.output.renderOutput(dataTable, element);\n",
              "        const docLink = document.createElement('div');\n",
              "        docLink.innerHTML = docLinkHtml;\n",
              "        element.appendChild(docLink);\n",
              "      }\n",
              "    </script>\n",
              "  </div>\n",
              "\n",
              "\n",
              "<div id=\"df-9cfaae60-2cb6-4986-8cc9-3a4766391a97\">\n",
              "  <button class=\"colab-df-quickchart\" onclick=\"quickchart('df-9cfaae60-2cb6-4986-8cc9-3a4766391a97')\"\n",
              "            title=\"Suggest charts\"\n",
              "            style=\"display:none;\">\n",
              "\n",
              "<svg xmlns=\"http://www.w3.org/2000/svg\" height=\"24px\"viewBox=\"0 0 24 24\"\n",
              "     width=\"24px\">\n",
              "    <g>\n",
              "        <path d=\"M19 3H5c-1.1 0-2 .9-2 2v14c0 1.1.9 2 2 2h14c1.1 0 2-.9 2-2V5c0-1.1-.9-2-2-2zM9 17H7v-7h2v7zm4 0h-2V7h2v10zm4 0h-2v-4h2v4z\"/>\n",
              "    </g>\n",
              "</svg>\n",
              "  </button>\n",
              "\n",
              "<style>\n",
              "  .colab-df-quickchart {\n",
              "      --bg-color: #E8F0FE;\n",
              "      --fill-color: #1967D2;\n",
              "      --hover-bg-color: #E2EBFA;\n",
              "      --hover-fill-color: #174EA6;\n",
              "      --disabled-fill-color: #AAA;\n",
              "      --disabled-bg-color: #DDD;\n",
              "  }\n",
              "\n",
              "  [theme=dark] .colab-df-quickchart {\n",
              "      --bg-color: #3B4455;\n",
              "      --fill-color: #D2E3FC;\n",
              "      --hover-bg-color: #434B5C;\n",
              "      --hover-fill-color: #FFFFFF;\n",
              "      --disabled-bg-color: #3B4455;\n",
              "      --disabled-fill-color: #666;\n",
              "  }\n",
              "\n",
              "  .colab-df-quickchart {\n",
              "    background-color: var(--bg-color);\n",
              "    border: none;\n",
              "    border-radius: 50%;\n",
              "    cursor: pointer;\n",
              "    display: none;\n",
              "    fill: var(--fill-color);\n",
              "    height: 32px;\n",
              "    padding: 0;\n",
              "    width: 32px;\n",
              "  }\n",
              "\n",
              "  .colab-df-quickchart:hover {\n",
              "    background-color: var(--hover-bg-color);\n",
              "    box-shadow: 0 1px 2px rgba(60, 64, 67, 0.3), 0 1px 3px 1px rgba(60, 64, 67, 0.15);\n",
              "    fill: var(--button-hover-fill-color);\n",
              "  }\n",
              "\n",
              "  .colab-df-quickchart-complete:disabled,\n",
              "  .colab-df-quickchart-complete:disabled:hover {\n",
              "    background-color: var(--disabled-bg-color);\n",
              "    fill: var(--disabled-fill-color);\n",
              "    box-shadow: none;\n",
              "  }\n",
              "\n",
              "  .colab-df-spinner {\n",
              "    border: 2px solid var(--fill-color);\n",
              "    border-color: transparent;\n",
              "    border-bottom-color: var(--fill-color);\n",
              "    animation:\n",
              "      spin 1s steps(1) infinite;\n",
              "  }\n",
              "\n",
              "  @keyframes spin {\n",
              "    0% {\n",
              "      border-color: transparent;\n",
              "      border-bottom-color: var(--fill-color);\n",
              "      border-left-color: var(--fill-color);\n",
              "    }\n",
              "    20% {\n",
              "      border-color: transparent;\n",
              "      border-left-color: var(--fill-color);\n",
              "      border-top-color: var(--fill-color);\n",
              "    }\n",
              "    30% {\n",
              "      border-color: transparent;\n",
              "      border-left-color: var(--fill-color);\n",
              "      border-top-color: var(--fill-color);\n",
              "      border-right-color: var(--fill-color);\n",
              "    }\n",
              "    40% {\n",
              "      border-color: transparent;\n",
              "      border-right-color: var(--fill-color);\n",
              "      border-top-color: var(--fill-color);\n",
              "    }\n",
              "    60% {\n",
              "      border-color: transparent;\n",
              "      border-right-color: var(--fill-color);\n",
              "    }\n",
              "    80% {\n",
              "      border-color: transparent;\n",
              "      border-right-color: var(--fill-color);\n",
              "      border-bottom-color: var(--fill-color);\n",
              "    }\n",
              "    90% {\n",
              "      border-color: transparent;\n",
              "      border-bottom-color: var(--fill-color);\n",
              "    }\n",
              "  }\n",
              "</style>\n",
              "\n",
              "  <script>\n",
              "    async function quickchart(key) {\n",
              "      const quickchartButtonEl =\n",
              "        document.querySelector('#' + key + ' button');\n",
              "      quickchartButtonEl.disabled = true;  // To prevent multiple clicks.\n",
              "      quickchartButtonEl.classList.add('colab-df-spinner');\n",
              "      try {\n",
              "        const charts = await google.colab.kernel.invokeFunction(\n",
              "            'suggestCharts', [key], {});\n",
              "      } catch (error) {\n",
              "        console.error('Error during call to suggestCharts:', error);\n",
              "      }\n",
              "      quickchartButtonEl.classList.remove('colab-df-spinner');\n",
              "      quickchartButtonEl.classList.add('colab-df-quickchart-complete');\n",
              "    }\n",
              "    (() => {\n",
              "      let quickchartButtonEl =\n",
              "        document.querySelector('#df-9cfaae60-2cb6-4986-8cc9-3a4766391a97 button');\n",
              "      quickchartButtonEl.style.display =\n",
              "        google.colab.kernel.accessAllowed ? 'block' : 'none';\n",
              "    })();\n",
              "  </script>\n",
              "</div>\n",
              "\n",
              "    </div>\n",
              "  </div>\n"
            ],
            "application/vnd.google.colaboratory.intrinsic+json": {
              "type": "dataframe",
              "variable_name": "df",
              "summary": "{\n  \"name\": \"df\",\n  \"rows\": 1000,\n  \"fields\": [\n    {\n      \"column\": \"Title\",\n      \"properties\": {\n        \"dtype\": \"string\",\n        \"num_unique_values\": 808,\n        \"samples\": [\n          \"retail store sale associ part time albani ga ppg architectur coat\",\n          \"dock worker pt night new penn\",\n          \"day program commun access mentor unit cerebr palsi georgia\"\n        ],\n        \"semantic_type\": \"\",\n        \"description\": \"\"\n      }\n    },\n    {\n      \"column\": \"Job.Description\",\n      \"properties\": {\n        \"dtype\": \"string\",\n        \"num_unique_values\": 903,\n        \"samples\": [\n          \"ref id01300152965classificationloan servicingcompensationdoeour client promin commun bank chicagoland market look respa specialist join team ideal respa specialist would 3 year recent experi servic convent fha va loan well vers respa regul immedi consider pleas email click email resum\",\n          \"regist nurs rn assist live regist nurs rnassist live respons provid oversight direct health relat servic assess establish servic plan resid assist live overse medic manag assist live set addit respons regist nurs rnassist live includ interview potenti resid assess resid complianc regul provid clinic support regard unusu resid staff event medic issu assur physician order process accur teach univers worker provid inservic health relat area\",\n          \"ref id 03320132545classif secretaryadmin asstcompens 1092 1265 per houra spring grove construct compani need administr assist temporari basi cover medic leav administr assist duti includ help bid inform work within adob pdf file job duti administr assist would includ answer phone light cleric duti help sort paperwork make sure document project job work\"\n        ],\n        \"semantic_type\": \"\",\n        \"description\": \"\"\n      }\n    },\n    {\n      \"column\": \"new col\",\n      \"properties\": {\n        \"dtype\": \"string\",\n        \"num_unique_values\": 927,\n        \"samples\": [\n          \"junior recruit posit officeteam ref id 04530118072classif personnelhuman resourcescompens 1480 2300 per houra trendi staf compani mclean area look jr recruit join organ recruit respons back human resourc depart employe file maintain creat job post negoti present competitivesuccess employ offer sourc new talent pleas send resum click email resum\",\n          \"clinic nurs rn prn consul health care nbsp nbsp purpos job posit consul health care clinic nurs rn primari purpos posit provid direct nurs care resid supervis daytoday nurs activ perform nurs assist supervis must accord current feder state local standard guidelin regul govern facil may requir director clinic servic ensur highest degre qualiti care maintain time job function nbsp clinic nurs rn supervis nurs tech job descript list duti job may ask supervisor manger perform duti evalu part base upon perform task list job descript nbsp duti respons nbsp nbsp act capac team leader modifi primari care set nbsp provid regular resid statu updat appropri personnel nbsp supervis nurs techsclin nurs amp ii particip evalu conduct document thorough assess residentrsquo medic statu upon admiss throughout residentrsquo cours treatment assist implement individu treatment plan assign resid maintain ongo commun physician concern resid care assist recruit hire nurs staff provid supervisioncounsel need unit nurs staff assist complet annual perform apprais unit personnel includ compet checklist assist nurs personnel act complianc corpor polici procedur regulatori requir ensur effect interact patient famili ensur complianc resid right polici work famili staff need resolv grievanc activ particip qualiti improv process facil schedul conduct document regular meet direct report staff ensur effect commun attend particip departmentfacil meet requir particip evalu nurs tech clinic nurs ii act complianc consul regulatori profession standard guidelin access continu educ opportun appropri disciplin respons order maintain clinic compet adher facil polici procedur particip facil qualiti improv safeti program particip andor provid inservic educ session overse fall program pressur sore program resid team\",\n          \"receptionist healthcar compani n houston officeteam ref id 04340125168classif receptionistswitchboardcompens 1300 1400 per houra healthcar compani north houston need receptionist temporari basi possibl go temporarytofulltim posit pay 1314hour base experi job duti includ answer phone greet visitor help duti need strong comput skill requir word excel hour role monday tothursday 8am5pm friday 8am430pm interest posit pleas appli today refer number 04340125168\"\n        ],\n        \"semantic_type\": \"\",\n        \"description\": \"\"\n      }\n    }\n  ]\n}"
            }
          },
          "metadata": {},
          "execution_count": 199
        }
      ]
    },
    {
      "cell_type": "code",
      "source": [
        "from sklearn.feature_extraction.text import TfidfVectorizer\n",
        "from sklearn.metrics.pairwise import cosine_similarity"
      ],
      "metadata": {
        "id": "MGTEaBpdLugy"
      },
      "execution_count": null,
      "outputs": []
    },
    {
      "cell_type": "code",
      "source": [
        "tfif = TfidfVectorizer()\n",
        "matrix = tfif.fit_transform(df['new col'])\n",
        "similarity = cosine_similarity(matrix)"
      ],
      "metadata": {
        "id": "pLTqiG1WLuX5"
      },
      "execution_count": null,
      "outputs": []
    },
    {
      "cell_type": "code",
      "source": [
        "similarity"
      ],
      "metadata": {
        "colab": {
          "base_uri": "https://localhost:8080/"
        },
        "id": "DvelGmzONBia",
        "outputId": "22c0c8b2-9823-4a92-fa9b-694524244d82"
      },
      "execution_count": null,
      "outputs": [
        {
          "output_type": "execute_result",
          "data": {
            "text/plain": [
              "array([[1.        , 0.04042121, 0.02576217, ..., 0.05812558, 0.02553415,\n",
              "        0.08439393],\n",
              "       [0.04042121, 1.        , 0.02654339, ..., 0.03223153, 0.0051686 ,\n",
              "        0.02355136],\n",
              "       [0.02576217, 0.02654339, 1.        , ..., 0.05841122, 0.03157436,\n",
              "        0.03907004],\n",
              "       ...,\n",
              "       [0.05812558, 0.03223153, 0.05841122, ..., 1.        , 0.06388816,\n",
              "        0.1154483 ],\n",
              "       [0.02553415, 0.0051686 , 0.03157436, ..., 0.06388816, 1.        ,\n",
              "        0.38480582],\n",
              "       [0.08439393, 0.02355136, 0.03907004, ..., 0.1154483 , 0.38480582,\n",
              "        1.        ]])"
            ]
          },
          "metadata": {},
          "execution_count": 202
        }
      ]
    },
    {
      "cell_type": "code",
      "source": [
        "enumerate(similarity[0])"
      ],
      "metadata": {
        "colab": {
          "base_uri": "https://localhost:8080/"
        },
        "id": "ai701xIWOSv_",
        "outputId": "a632f0d2-690e-4c9d-ee62-561ae2a97c00"
      },
      "execution_count": null,
      "outputs": [
        {
          "output_type": "execute_result",
          "data": {
            "text/plain": [
              "<enumerate at 0x7ad478a67100>"
            ]
          },
          "metadata": {},
          "execution_count": 203
        }
      ]
    },
    {
      "cell_type": "code",
      "source": [
        "df.columns = df.columns.str.strip()"
      ],
      "metadata": {
        "id": "P9CeXP99byEk"
      },
      "execution_count": null,
      "outputs": []
    },
    {
      "cell_type": "code",
      "source": [
        "sorted(list(enumerate(similarity[0])), key=lambda x: x[1], reverse=True)[1:20]"
      ],
      "metadata": {
        "colab": {
          "base_uri": "https://localhost:8080/"
        },
        "id": "efoNJKDVhJK3",
        "outputId": "17b44a3a-ecda-40eb-a6e4-1232b199da05"
      },
      "execution_count": 230,
      "outputs": [
        {
          "output_type": "execute_result",
          "data": {
            "text/plain": [
              "[(276, 0.9939215423960107),\n",
              " (730, 0.5301661350898537),\n",
              " (81, 0.5109964007032951),\n",
              " (917, 0.5109964007032951),\n",
              " (252, 0.28102651855400723),\n",
              " (128, 0.2453122350947322),\n",
              " (360, 0.2379138204539952),\n",
              " (825, 0.2052694297802546),\n",
              " (629, 0.20115876820344714),\n",
              " (245, 0.19062348531860984),\n",
              " (38, 0.18007342197651222),\n",
              " (254, 0.1701903938731881),\n",
              " (469, 0.15843747912036293),\n",
              " (965, 0.15473370123724825),\n",
              " (319, 0.15453037689897423),\n",
              " (114, 0.15279819595099048),\n",
              " (655, 0.15100516882692633),\n",
              " (59, 0.1473110275288165),\n",
              " (298, 0.14632078731190057)]"
            ]
          },
          "metadata": {},
          "execution_count": 230
        }
      ]
    },
    {
      "cell_type": "markdown",
      "source": [
        "\n",
        " Recommmendation system"
      ],
      "metadata": {
        "id": "YDblAD_xhOFD"
      }
    },
    {
      "cell_type": "code",
      "source": [
        "def recommend(title):\n",
        "\n",
        "        indx = job_df[job_df['Title'] == title].index[0]\n",
        "        indx = job_df.index.get_loc(indx)\n",
        "        distances = sorted(list(enumerate(similarity[indx])), key=lambda x: x[1], reverse=True)[1:20]\n",
        "\n",
        "        jobs = []\n",
        "        for i in distances:\n",
        "            jobs.append(job_df.iloc[i[0]].Title)\n",
        "        return jobs"
      ],
      "metadata": {
        "id": "M4h0Ig4hYZMj"
      },
      "execution_count": 231,
      "outputs": []
    },
    {
      "cell_type": "code",
      "source": [
        "recommend('site director knowledg univers')"
      ],
      "metadata": {
        "colab": {
          "base_uri": "https://localhost:8080/",
          "height": 274
        },
        "id": "bKJgZpB8hWCu",
        "outputId": "7869caba-edd5-4920-f0ce-9fa7095a26ea"
      },
      "execution_count": 232,
      "outputs": [
        {
          "output_type": "error",
          "ename": "NameError",
          "evalue": "name 'job_df' is not defined",
          "traceback": [
            "\u001b[0;31m---------------------------------------------------------------------------\u001b[0m",
            "\u001b[0;31mNameError\u001b[0m                                 Traceback (most recent call last)",
            "\u001b[0;32m<ipython-input-232-e1414915e5c6>\u001b[0m in \u001b[0;36m<cell line: 1>\u001b[0;34m()\u001b[0m\n\u001b[0;32m----> 1\u001b[0;31m \u001b[0mrecommend\u001b[0m\u001b[0;34m(\u001b[0m\u001b[0;34m'site director knowledg univers'\u001b[0m\u001b[0;34m)\u001b[0m\u001b[0;34m\u001b[0m\u001b[0;34m\u001b[0m\u001b[0m\n\u001b[0m",
            "\u001b[0;32m<ipython-input-231-ebbef19bd7a5>\u001b[0m in \u001b[0;36mrecommend\u001b[0;34m(title)\u001b[0m\n\u001b[1;32m      1\u001b[0m \u001b[0;32mdef\u001b[0m \u001b[0mrecommend\u001b[0m\u001b[0;34m(\u001b[0m\u001b[0mtitle\u001b[0m\u001b[0;34m)\u001b[0m\u001b[0;34m:\u001b[0m\u001b[0;34m\u001b[0m\u001b[0;34m\u001b[0m\u001b[0m\n\u001b[1;32m      2\u001b[0m \u001b[0;34m\u001b[0m\u001b[0m\n\u001b[0;32m----> 3\u001b[0;31m         \u001b[0mindx\u001b[0m \u001b[0;34m=\u001b[0m \u001b[0mjob_df\u001b[0m\u001b[0;34m[\u001b[0m\u001b[0mjob_df\u001b[0m\u001b[0;34m[\u001b[0m\u001b[0;34m'Title'\u001b[0m\u001b[0;34m]\u001b[0m \u001b[0;34m==\u001b[0m \u001b[0mtitle\u001b[0m\u001b[0;34m]\u001b[0m\u001b[0;34m.\u001b[0m\u001b[0mindex\u001b[0m\u001b[0;34m[\u001b[0m\u001b[0;36m0\u001b[0m\u001b[0;34m]\u001b[0m\u001b[0;34m\u001b[0m\u001b[0;34m\u001b[0m\u001b[0m\n\u001b[0m\u001b[1;32m      4\u001b[0m         \u001b[0mindx\u001b[0m \u001b[0;34m=\u001b[0m \u001b[0mjob_df\u001b[0m\u001b[0;34m.\u001b[0m\u001b[0mindex\u001b[0m\u001b[0;34m.\u001b[0m\u001b[0mget_loc\u001b[0m\u001b[0;34m(\u001b[0m\u001b[0mindx\u001b[0m\u001b[0;34m)\u001b[0m\u001b[0;34m\u001b[0m\u001b[0;34m\u001b[0m\u001b[0m\n\u001b[1;32m      5\u001b[0m         \u001b[0mdistances\u001b[0m \u001b[0;34m=\u001b[0m \u001b[0msorted\u001b[0m\u001b[0;34m(\u001b[0m\u001b[0mlist\u001b[0m\u001b[0;34m(\u001b[0m\u001b[0menumerate\u001b[0m\u001b[0;34m(\u001b[0m\u001b[0msimilarity\u001b[0m\u001b[0;34m[\u001b[0m\u001b[0mindx\u001b[0m\u001b[0;34m]\u001b[0m\u001b[0;34m)\u001b[0m\u001b[0;34m)\u001b[0m\u001b[0;34m,\u001b[0m \u001b[0mkey\u001b[0m\u001b[0;34m=\u001b[0m\u001b[0;32mlambda\u001b[0m \u001b[0mx\u001b[0m\u001b[0;34m:\u001b[0m \u001b[0mx\u001b[0m\u001b[0;34m[\u001b[0m\u001b[0;36m1\u001b[0m\u001b[0;34m]\u001b[0m\u001b[0;34m,\u001b[0m \u001b[0mreverse\u001b[0m\u001b[0;34m=\u001b[0m\u001b[0;32mTrue\u001b[0m\u001b[0;34m)\u001b[0m\u001b[0;34m[\u001b[0m\u001b[0;36m1\u001b[0m\u001b[0;34m:\u001b[0m\u001b[0;36m20\u001b[0m\u001b[0;34m]\u001b[0m\u001b[0;34m\u001b[0m\u001b[0;34m\u001b[0m\u001b[0m\n",
            "\u001b[0;31mNameError\u001b[0m: name 'job_df' is not defined"
          ]
        }
      ]
    },
    {
      "cell_type": "markdown",
      "source": [],
      "metadata": {
        "id": "tuLiS_hCYY7k"
      }
    },
    {
      "cell_type": "code",
      "source": [],
      "metadata": {
        "id": "0vA1RVj5N6Vm"
      },
      "execution_count": null,
      "outputs": []
    },
    {
      "cell_type": "code",
      "source": [
        "# Assuming df is your DataFrameand  Getting  the number of unique values for each column\n",
        "unique_values = df.nunique()\n"
      ],
      "metadata": {
        "id": "79fSAUc81Wbt"
      },
      "execution_count": null,
      "outputs": []
    },
    {
      "cell_type": "code",
      "source": [
        "# Print the number of unique values for each column\n",
        "print(\"Unique values in each column:\")\n",
        "print(unique_values)"
      ],
      "metadata": {
        "colab": {
          "base_uri": "https://localhost:8080/"
        },
        "id": "d6ZoZOeh2kAK",
        "outputId": "bf3cbb97-a3e9-4d96-ab2d-94851615f404"
      },
      "execution_count": null,
      "outputs": [
        {
          "output_type": "stream",
          "name": "stdout",
          "text": [
            "Unique values in each column:\n",
            "Job.ID                84090\n",
            "Provider                  3\n",
            "Status                    1\n",
            "Slug                  84090\n",
            "Title                 41861\n",
            "Position              36245\n",
            "Company                8335\n",
            "City                   5503\n",
            "State.Name               51\n",
            "State.Code               51\n",
            "Address                  24\n",
            "Latitude              14452\n",
            "Longitude             14641\n",
            "Industry                  6\n",
            "Job.Description       59269\n",
            "Requirements              0\n",
            "Salary                   26\n",
            "Listing.Start           146\n",
            "Listing.End             144\n",
            "Employment.Type           8\n",
            "Education.Required        5\n",
            "Created.At            59238\n",
            "Updated.At            58981\n",
            "dtype: int64\n"
          ]
        }
      ]
    },
    {
      "cell_type": "code",
      "source": [
        "# Calculate the total number of unique values across all columns\n",
        "total_unique_values = unique_values.sum()"
      ],
      "metadata": {
        "id": "abE7gmxX2qFj"
      },
      "execution_count": null,
      "outputs": []
    },
    {
      "cell_type": "code",
      "source": [
        "# Print the total number of unique values\n",
        "print(\"\\nTotal number of unique values across all columns:\")\n",
        "print(total_unique_values)"
      ],
      "metadata": {
        "colab": {
          "base_uri": "https://localhost:8080/"
        },
        "id": "c1M0ALwg2srx",
        "outputId": "2a43d156-9ed5-470f-a7e9-5ae360105112"
      },
      "execution_count": null,
      "outputs": [
        {
          "output_type": "stream",
          "name": "stdout",
          "text": [
            "\n",
            "Total number of unique values across all columns:\n",
            "467170\n"
          ]
        }
      ]
    },
    {
      "cell_type": "code",
      "source": [
        "missing_values = df.isnull().sum()\n",
        "\n",
        "print(\"Number of missing values in the columns:\")\n",
        "print(missing_values)"
      ],
      "metadata": {
        "colab": {
          "base_uri": "https://localhost:8080/"
        },
        "id": "kphMQvjq2w9S",
        "outputId": "6e92a3dc-3c39-41a7-b9f7-31789a065c86"
      },
      "execution_count": null,
      "outputs": [
        {
          "output_type": "stream",
          "name": "stdout",
          "text": [
            "Number of missing values in the columns:\n",
            "Job.ID                    0\n",
            "Provider                  0\n",
            "Status                    0\n",
            "Slug                      0\n",
            "Title                     0\n",
            "Position                  0\n",
            "Company                2271\n",
            "City                    135\n",
            "State.Name              171\n",
            "State.Code              171\n",
            "Address               84054\n",
            "Latitude                  0\n",
            "Longitude                 0\n",
            "Industry              83823\n",
            "Job.Description          56\n",
            "Requirements          84090\n",
            "Salary                83861\n",
            "Listing.Start           683\n",
            "Listing.End             167\n",
            "Employment.Type          10\n",
            "Education.Required      267\n",
            "Created.At                0\n",
            "Updated.At                0\n",
            "dtype: int64\n"
          ]
        }
      ]
    },
    {
      "cell_type": "code",
      "source": [
        "#checking unique values of each columns to find out possible values that is missing or that needs to be cleaned\n",
        "for column in df.columns:\n",
        "    unique_values = df[column].unique()\n",
        "    print(f'Unique values in {column} column:')\n",
        "    print(unique_values)\n",
        "    print()"
      ],
      "metadata": {
        "colab": {
          "base_uri": "https://localhost:8080/"
        },
        "id": "xwF6rfxp3LTC",
        "outputId": "90922795-fbd3-4710-f615-59c035936c3e"
      },
      "execution_count": null,
      "outputs": [
        {
          "output_type": "stream",
          "name": "stdout",
          "text": [
            "Unique values in Job.ID column:\n",
            "[111 113 117 ...  84  88  92]\n",
            "\n",
            "Unique values in Provider column:\n",
            "[1 2 3]\n",
            "\n",
            "Unique values in Status column:\n",
            "['open']\n",
            "\n",
            "Unique values in Slug column:\n",
            "['palo-alto-ca-tacolicious-server'\n",
            " 'san-francisco-ca-claude-lane-kitchen-staff-chef'\n",
            " 'san-francisco-ca-machka-restaurants-corp-bartender' ...\n",
            " 'san-francisco-ca-onigilly-driver-84'\n",
            " 'san-francisco-ca-machka-restaurants-corp-line-cook'\n",
            " 'san-jose-ca-kazoo-restaurant-cashier']\n",
            "\n",
            "Unique values in Title column:\n",
            "['Server @ Tacolicious' 'Kitchen Staff/Chef @ Claude Lane'\n",
            " 'Bartender @ Machka Restaurants Corp.' ...\n",
            " 'Kitchen Staff/Chef @ Emporio Rulli'\n",
            " 'Line Cook @ Machka Restaurants Corp.' 'Cashier @ Kazoo Restaurant']\n",
            "\n",
            "Unique values in Position column:\n",
            "['Server' 'Kitchen Staff/Chef' 'Bartender' ...\n",
            " 'Experienced Security Officer' 'Receptionist Security Officer/Concierge'\n",
            " 'Book Keeper']\n",
            "\n",
            "Unique values in Company column:\n",
            "['Tacolicious' 'Claude Lane' 'Machka Restaurants Corp.' ... 'Santorini'\n",
            " 'INDO Restaurant & Lounge'\n",
            " 'National Japanese American Historical Society']\n",
            "\n",
            "Unique values in City column:\n",
            "['Palo Alto' 'San Francisco' 'Brisbane' ... 'Surfside Beach' 'COLUMBUS'\n",
            " 'Yountville']\n",
            "\n",
            "Unique values in State.Name column:\n",
            "['California' 'New Jersey' 'Wisconsin' 'Illinois' 'Kentucky'\n",
            " 'South Carolina' 'Pennsylvania' 'North Carolina' 'Ohio' 'Minnesota'\n",
            " 'Missouri' 'Michigan' 'Texas' 'Arizona' 'Tennessee' 'Indiana' 'Oregon'\n",
            " 'Utah' 'Florida' 'Rhode Island' 'West Virginia' 'Washington' 'New Mexico'\n",
            " 'Nebraska' 'Georgia' 'Massachusetts' 'Virginia' 'New York' 'Louisiana'\n",
            " 'Maryland' 'Nevada' 'Hawaii' 'Alabama' 'New Hampshire' 'South Dakota'\n",
            " 'Connecticut' 'Idaho' 'Colorado' nan 'Kansas' 'Montana' 'Iowa' 'Oklahoma'\n",
            " 'Delaware' 'Vermont' 'North Dakota' 'Arkansas' 'District of Columbia'\n",
            " 'Maine' 'Mississippi' 'Wyoming' 'Alaska']\n",
            "\n",
            "Unique values in State.Code column:\n",
            "['CA' 'NJ' 'WI' 'IL' 'KY' 'SC' 'PA' 'NC' 'OH' 'MN' 'MO' 'MI' 'TX' 'AZ'\n",
            " 'TN' 'IN' 'OR' 'UT' 'FL' 'RI' 'WV' 'WA' 'NM' 'NE' 'GA' 'MA' 'VA' 'NY'\n",
            " 'LA' 'MD' 'NV' 'HI' 'AL' 'NH' 'SD' 'CT' 'ID' 'CO' nan 'KS' 'MT' 'IA' 'OK'\n",
            " 'DE' 'VT' 'ND' 'AR' 'DC' 'ME' 'MS' 'WY' 'AK']\n",
            "\n",
            "Unique values in Address column:\n",
            "[nan '3600 Griffith Park Blvd' '565 Metro Place South. Suite # 110 '\n",
            " 'New Jersey' '190 Holloway Ave' 'Redmond'\n",
            " '470 Oldeworthington rd, Suite 205' '412 Old State Rd.'\n",
            " '13653 Lee Jackson Memorial Highway' '251 West Lee Highway Suite 617'\n",
            " '11 Palmetto Bay Rd' '1451 Woodruff Road' '1445 Main Street'\n",
            " '63435 N. Highway 97' '2125 El Camino Real' '725 Gravois Road'\n",
            " '16 Thf Blvd' '5000 Westheimer Rd, ' '660 Quince Orchard Road, '\n",
            " '5161 Hinkleville Rd' '3030 N Rocky Point Dr. Suite 810'\n",
            " '1475 N. Scottsdale Rd. ' '7466 New Ridge Road, Suite 14' 'los angeles'\n",
            " '40 W 29th St, Suite 404']\n",
            "\n",
            "Unique values in Latitude column:\n",
            "[37.4433459 37.7898297 37.7955972 ... 37.786375  37.4209262 37.7858735]\n",
            "\n",
            "Unique values in Longitude column:\n",
            "[-122.1611703 -122.4042678 -122.4029634 ... -122.4087471 -122.1369824\n",
            " -122.4294946]\n",
            "\n",
            "Unique values in Industry column:\n",
            "['Food and Beverages' 'Retail' nan 'Transportation' 'Other'\n",
            " 'Office Administration' 'Care Giving']\n",
            "\n",
            "Unique values in Job.Description column:\n",
            "[\"Tacolicious' first Palo Alto store just opened recently, and we are hiring! If you love tacos, you will love working at our restaurant! \\r\\n\\r\\n ● Serve food/drinks to customers in a professional manner \\r\\n ● Act as a cashier when needed \\r\\n ● Clean up the dining space \\r\\n ● Train the new staff \\r\\n\"\n",
            " ' \\r\\n\\r\\nNew French Brasserie in S.F. Financial District Seeks Chef\\r\\nWe are seeking an energetic, dynamic chef to take charge and grow with our company. Our ideal candidate is a motivated self-starter, has a great work ethic and is ready for the challenge of building their own team with executive support. \\r\\n\\r\\nThis position is a perfect fit for a talented chef ready to take the next step, someone who can multi task in a high volume kitchen and has exceptional organizational skills. Position requirements are experience with French cuisine, a minimum of 5 years as a sous chef in high volume, full service restaurant. He or she must be a team player, leading by example and working side by side with other members of the team. \\r\\n\\r\\nComputer and management skills are a must, as are experience in ordering, inventory and cost control. The right candidate will have previously demonstrated an understanding of leadership and accountability, and an infectious, energetic approach to problem solving and facing challenges. \\r\\n\\r\\nWe are an equal opportunity employer. Qualified applicants are considered for employment without regard to age, race, religion, sex, national origin, sexual orientation, disability, or veteran status. \\r\\n'\n",
            " 'We are a popular Mediterranean wine bar and restaurant in Financial District.\\r\\n\\r\\nWe are looking for an experienced bartender for dinner shifts (Monday-Saturday). Candidates should have:\\r\\n\\r\\n- Very positive attitude\\r\\n- Good wine knowledge\\r\\n\\r\\nand be able to:\\r\\n\\r\\n- Work as a team player\\r\\n- Take initiative to help out the whole floor\\r\\n\\r\\nWe serve wine and beer only.'\n",
            " ...\n",
            " \"ONIGILLY (Japanese rice ball wraps) seeks outgoing individuals to grow our business together!\\r\\n\\r\\nQuick, Healthy, and Yummy! Onigilly started out in 2008 with a vision to become the first Japanese fast food chain in America. Starting out as a food cart and opening its first storefront last year, Onigilly pushes onward toward its goal of opening 500 storefronts across the country.\\r\\n\\r\\nWe are looking for several positions.\\r\\nExperience and interest in our company, Japanese culture, food, restaurant industry, street food and farmers' markets is recommended.\\r\\n\\r\\n---Hiring positions:\\r\\n\\r\\n1, Street food team driver\\r\\n2, Catering driver\\r\\n\\r\\n---Qualifications:\\r\\nHas personal car (we have a company van but you need your own car to access the cart parking)\\r\\nUnderstanding our mission and vision\\r\\nValid driver's license and clean DMV record\\r\\nBright, good communication skill with team members and customers\\r\\nClean and organized\\r\\nSkill to communicate using email\\r\\nPhysically fit and able to lift 50 pounds and stand on feet for multiple hours\\r\\nWe'll train you but you need to have a passion to learn, and skill with the hands\"\n",
            " 'We are a popular Mediterranean restaurant in Financial District.\\r\\n  \\r\\nWe are looking for an experienced line cook for dinner shifts (Monday-Saturday). Candidates should be able to:\\r\\n\\r\\n- Cook grill, salad and sautÃ© stations\\r\\n- Work under the instruction of the chef\\r\\n- Maintain a clean station\\r\\n- Plate to order \\r\\n- Work as a team player\\r\\n- Take initiative to help out all stations\\r\\n'\n",
            " ' We are looking for a cashier! \\r\\n\\r\\n ● Take order and manage transactions \\r\\n']\n",
            "\n",
            "Unique values in Requirements column:\n",
            "[nan]\n",
            "\n",
            "Unique values in Salary column:\n",
            "[ 8.    0.   11.   10.55   nan 10.   15.   19.   20.   47.   58.   16.\n",
            " 13.   12.5  11.5  13.5   7.65  8.6   7.25 50.   30.    8.5   9.   12.\n",
            " 10.25 10.74  5.  ]\n",
            "\n",
            "Unique values in Listing.Start column:\n",
            "[nan '12-05-2014' '12-09-2014' '12-08-2014' '12-07-2014' '12-06-2014'\n",
            " '12-10-2014' '12-11-2014' '12-12-2014' '01-01-2015' '01-04-2015'\n",
            " '01-05-2015' '01-06-2015' '01-07-2015' '01-08-2015' '01-09-2015'\n",
            " '01-10-2015' '01-11-2015' '01-12-2015' '2015-02-01 08:00:29 UTC'\n",
            " '2015-02-04 16:57:35 UTC' '2015-02-04 16:54:36 UTC'\n",
            " '2015-02-04 16:54:03 UTC' '2015-02-04 16:53:28 UTC'\n",
            " '2015-02-04 16:52:39 UTC' '2015-02-04 16:52:14 UTC'\n",
            " '2015-02-04 16:51:45 UTC' '2015-02-04 16:51:11 UTC'\n",
            " '2015-02-04 16:50:54 UTC' '2015-02-04 16:50:33 UTC'\n",
            " '2015-02-04 16:49:55 UTC' '2015-02-04 16:49:39 UTC'\n",
            " '2015-02-04 16:49:23 UTC' '2015-02-04 16:49:05 UTC'\n",
            " '2015-02-04 16:49:01 UTC' '2015-02-05 00:00:12 UTC'\n",
            " '2015-02-06 19:40:54 UTC' '2015-02-09 20:31:44 UTC'\n",
            " '2015-02-10 16:59:45 UTC' '2015-02-10 16:59:33 UTC'\n",
            " '2015-02-10 16:59:20 UTC' '2015-02-10 19:05:31 UTC'\n",
            " '2015-02-10 19:51:36 UTC' '2015-02-10 20:29:25 UTC'\n",
            " '2015-02-10 20:47:28 UTC' '2015-02-10 20:47:06 UTC'\n",
            " '2015-02-11 18:41:20 UTC' '2015-02-11 18:40:21 UTC'\n",
            " '2015-02-11 18:39:45 UTC' '2015-02-12 17:06:56 UTC'\n",
            " '2015-02-16 01:02:01 UTC' '2015-02-16 17:57:44 UTC'\n",
            " '2015-02-16 18:02:53 UTC' '2015-02-16 18:04:38 UTC' '20-02-2015'\n",
            " '2015-02-21 17:29:14 UTC' '21-02-2015' '22-02-2015' '23-02-2015'\n",
            " '2015-02-24 04:24:01 UTC' '2015-02-24 04:23:33 UTC' '24-02-2015'\n",
            " '2015-02-25 00:28:59 UTC' '2015-02-25 00:28:24 UTC' '25-02-2015'\n",
            " '2015-02-25 20:56:34 UTC' '26-02-2015' '27-02-2015' '28-02-2015'\n",
            " '01-03-2015' '02-03-2015' '2015-03-02 22:55:57 UTC'\n",
            " '2015-03-03 22:06:07 UTC' '03-03-2015' '2015-03-10 04:45:10 UTC'\n",
            " '2015-03-10 04:44:54 UTC' '2015-03-10 04:44:41 UTC'\n",
            " '2015-03-10 04:44:24 UTC' '2015-03-10 04:43:49 UTC'\n",
            " '2015-03-10 04:43:31 UTC' '2015-03-10 04:43:17 UTC'\n",
            " '2015-03-10 04:42:59 UTC' '2015-03-03 21:46:30 UTC'\n",
            " '2015-03-03 21:42:49 UTC' '2015-03-03 21:43:15 UTC' '04-03-2015'\n",
            " '05-03-2015' '2015-03-05 20:26:26 UTC' '2015-03-05 20:27:15 UTC'\n",
            " '2015-03-05 20:26:54 UTC' '06-03-2015' '07-03-2015' '08-03-2015'\n",
            " '09-03-2015' '10-03-2015' '2015-03-10 17:32:10 UTC' '12-03-2015'\n",
            " '11-03-2015' '13-03-2015' '14-03-2015' '15-03-2015' '16-03-2015'\n",
            " '2015-03-17 05:58:50 UTC' '2015-03-17 05:58:35 UTC' '17-03-2015'\n",
            " '18-03-2015' '19-03-2015' '20-03-2015' '21-03-2015' '22-03-2015'\n",
            " '23-03-2015' '24-03-2015' '2015-03-24 22:52:23 UTC' '25-03-2015'\n",
            " '26-03-2015' '27-03-2015' '28-03-2015' '29-03-2015'\n",
            " '2015-03-30 17:52:00 UTC' '30-03-2015' '31-03-2015' '02-04-2015'\n",
            " '03-04-2015' '04-04-2015' '2015-04-05 05:50:29 UTC' '05-04-2015'\n",
            " '07-04-2015' '06-04-2015' '2015-04-07 19:21:13 UTC'\n",
            " '2015-04-07 19:21:07 UTC' '2015-04-07 19:20:52 UTC'\n",
            " '2015-04-07 19:20:10 UTC' '08-04-2015' '09-04-2015' '11-04-2015'\n",
            " '10-04-2015' '12-04-2015' '13-04-2015' '14-04-2015' '15-04-2015'\n",
            " '16-04-2015' '2014-10-23 15:56:43 UTC' '2014-11-07 17:55:28 UTC'\n",
            " '2014-11-07 17:55:49 UTC' '2014-11-07 17:55:40 UTC'\n",
            " '2014-08-20 21:07:15 UTC' '2014-11-13 16:43:26 UTC']\n",
            "\n",
            "Unique values in Listing.End column:\n",
            "[nan '01-04-2015' '01-08-2015' '01-07-2015' '01-06-2015' '01-05-2015'\n",
            " '01-09-2015' '01-10-2015' '01-11-2015' '01-12-2015' '02-04-2015'\n",
            " '02-05-2015' '02-06-2015' '02-07-2015' '02-08-2015' '02-09-2015'\n",
            " '02-10-2015' '02-11-2015' '02-12-2015' '2015-03-01 08:00:29 UTC'\n",
            " '2015-03-04 16:57:35 UTC' '2015-03-04 16:54:36 UTC'\n",
            " '2015-03-04 16:54:03 UTC' '2015-03-04 16:53:28 UTC'\n",
            " '2015-03-04 16:52:39 UTC' '2015-03-04 16:52:14 UTC'\n",
            " '2015-03-04 16:51:45 UTC' '2015-03-04 16:51:11 UTC'\n",
            " '2015-03-04 16:50:54 UTC' '2015-03-04 16:50:33 UTC'\n",
            " '2015-03-04 16:49:55 UTC' '2015-03-04 16:49:39 UTC'\n",
            " '2015-03-04 16:49:23 UTC' '2015-03-04 16:49:05 UTC'\n",
            " '2015-03-04 16:49:01 UTC' '2015-03-05 00:00:12 UTC'\n",
            " '2015-03-06 19:40:54 UTC' '2015-03-09 19:31:44 UTC'\n",
            " '2015-03-10 15:59:45 UTC' '2015-03-10 15:59:33 UTC'\n",
            " '2015-03-10 15:59:20 UTC' '2015-03-10 18:05:31 UTC'\n",
            " '2015-03-10 18:51:36 UTC' '2015-03-10 19:29:25 UTC'\n",
            " '2015-03-10 19:47:28 UTC' '2015-03-10 19:47:06 UTC'\n",
            " '2015-03-11 17:41:20 UTC' '2015-03-11 17:40:21 UTC'\n",
            " '2015-03-11 17:39:45 UTC' '2015-03-12 16:06:56 UTC'\n",
            " '2015-03-16 00:02:01 UTC' '2015-03-16 16:57:44 UTC'\n",
            " '2015-03-16 17:02:53 UTC' '2015-03-16 17:04:38 UTC' '19-03-2015'\n",
            " '2015-03-21 16:29:14 UTC' '20-03-2015' '21-03-2015' '22-03-2015'\n",
            " '2015-03-24 03:24:01 UTC' '2015-03-24 03:23:33 UTC' '23-03-2015'\n",
            " '2015-03-24 23:28:59 UTC' '2015-03-24 23:28:24 UTC' '24-03-2015'\n",
            " '2015-03-25 19:56:34 UTC' '25-03-2015' '26-03-2015' '27-03-2015'\n",
            " '31-03-2015' '2015-04-02 21:55:57 UTC' '2015-04-03 21:06:07 UTC'\n",
            " '2015-04-10 04:45:10 UTC' '2015-04-10 04:44:54 UTC'\n",
            " '2015-04-10 04:44:41 UTC' '2015-04-10 04:44:24 UTC'\n",
            " '2015-04-10 04:43:49 UTC' '2015-04-10 04:43:31 UTC'\n",
            " '2015-04-10 04:43:17 UTC' '2015-04-10 04:42:59 UTC'\n",
            " '2015-04-03 20:46:30 UTC' '2015-04-03 20:42:49 UTC'\n",
            " '2015-04-03 20:43:15 UTC' '03-04-2015' '04-04-2015'\n",
            " '2015-04-05 19:26:26 UTC' '2015-04-05 19:27:15 UTC'\n",
            " '2015-04-05 19:26:54 UTC' '05-04-2015' '06-04-2015' '07-04-2015'\n",
            " '08-04-2015' '09-04-2015' '2015-04-10 17:32:10 UTC' '11-04-2015'\n",
            " '10-04-2015' '12-04-2015' '13-04-2015' '14-04-2015' '15-04-2015'\n",
            " '2015-04-17 05:58:50 UTC' '2015-04-17 05:58:35 UTC' '16-04-2015'\n",
            " '17-04-2015' '18-04-2015' '19-04-2015' '20-04-2015' '21-04-2015'\n",
            " '28-03-2015' '22-04-2015' '23-04-2015' '30-03-2015'\n",
            " '2015-04-24 22:52:23 UTC' '24-04-2015' '25-04-2015' '26-04-2015'\n",
            " '27-04-2015' '28-04-2015' '2015-04-30 17:52:00 UTC' '29-04-2015'\n",
            " '30-04-2015' '03-05-2015' '2015-05-05 05:50:29 UTC' '04-05-2015'\n",
            " '06-05-2015' '05-05-2015' '2015-05-07 19:21:13 UTC'\n",
            " '2015-05-07 19:21:07 UTC' '2015-05-07 19:20:52 UTC'\n",
            " '2015-05-07 19:20:10 UTC' '07-05-2015' '08-05-2015' '10-05-2015'\n",
            " '09-05-2015' '11-05-2015' '12-05-2015' '13-05-2015' '14-05-2015'\n",
            " '15-05-2015' '2014-11-23 16:56:43 UTC' '2014-12-07 17:55:28 UTC'\n",
            " '2014-12-07 17:55:49 UTC' '2014-12-07 17:55:40 UTC'\n",
            " '2014-09-20 21:07:15 UTC' '2014-12-13 16:43:26 UTC']\n",
            "\n",
            "Unique values in Employment.Type column:\n",
            "['Part-Time' 'Full-Time/Part-Time' 'Seasonal/Temp' 'Per Diem' 'Intern' nan\n",
            " 'Full-Time' 'Contract' 'Temporary/seasonal']\n",
            "\n",
            "Unique values in Education.Required column:\n",
            "[nan 'Not Specified' 'High School Diploma' \"Master's Degree\"\n",
            " 'Associate Degree' \"Bachelor's Degree\"]\n",
            "\n",
            "Unique values in Created.At column:\n",
            "['2013-03-12 02:08:28 UTC' '2013-04-12 08:36:36 UTC'\n",
            " '2013-07-16 09:34:10 UTC' ... '2013-03-12 01:47:13 UTC'\n",
            " '2013-07-16 08:55:22 UTC' '2013-03-27 09:35:04 UTC']\n",
            "\n",
            "Unique values in Updated.At column:\n",
            "['2014-08-16 15:35:36 UTC' '2014-08-16 15:35:37 UTC'\n",
            " '2014-08-16 15:35:38 UTC' ... '2014-08-16 15:35:27 UTC'\n",
            " '2014-08-16 15:35:28 UTC' '2014-08-16 15:35:30 UTC']\n",
            "\n"
          ]
        }
      ]
    },
    {
      "cell_type": "markdown",
      "source": [
        "##Data Preprocessing"
      ],
      "metadata": {
        "id": "P6uAUDfU3Qyi"
      }
    },
    {
      "cell_type": "code",
      "source": [
        "# Function to correct spelling\n",
        "def correct_spelling(column, reference_list):\n",
        "    corrected_values = []\n",
        "    for value in df[column]:\n",
        "        if pd.isna(value):\n",
        "            corrected_values.append(value)\n",
        "        else:\n",
        "            best_match = process.extractOne(value, reference_list, scorer=fuzz.ratio)\n",
        "            if best_match[1] >= 80:  # Adjust the threshold as needed\n",
        "                corrected_values.append(best_match[0])\n",
        "            else:\n",
        "                corrected_values.append(value)\n",
        "    return corrected_values"
      ],
      "metadata": {
        "id": "uwRqhoFg6Lef"
      },
      "execution_count": null,
      "outputs": []
    },
    {
      "cell_type": "code",
      "source": [
        "# Save the corrected dataset\n",
        "df.to_csv('jobs_corrected.csv', index=False)\n",
        "\n",
        "print(\"Spelling correction completed and saved to jobs_corrected.csv\")"
      ],
      "metadata": {
        "colab": {
          "base_uri": "https://localhost:8080/"
        },
        "id": "bJClKQaz6S73",
        "outputId": "36e7a032-6bee-4036-ed43-0d8a591c0ec1"
      },
      "execution_count": null,
      "outputs": [
        {
          "output_type": "stream",
          "name": "stdout",
          "text": [
            "Spelling correction completed and saved to jobs_corrected.csv\n"
          ]
        }
      ]
    },
    {
      "cell_type": "markdown",
      "source": [
        "Handling Missing Values"
      ],
      "metadata": {
        "id": "pax48ITv6vD2"
      }
    },
    {
      "cell_type": "code",
      "source": [
        "# Display the number of missing values in each column\n",
        "missing_values = df.isnull().sum()\n",
        "print(\"Missing values in each column:\\n\", missing_values)"
      ],
      "metadata": {
        "colab": {
          "base_uri": "https://localhost:8080/"
        },
        "id": "-B4mU3Rq6zA-",
        "outputId": "a3540136-c11d-467e-a868-b61109cd6782"
      },
      "execution_count": null,
      "outputs": [
        {
          "output_type": "stream",
          "name": "stdout",
          "text": [
            "Missing values in each column:\n",
            " Job.ID                    0\n",
            "Provider                  0\n",
            "Status                    0\n",
            "Slug                      0\n",
            "Title                     0\n",
            "Position                  0\n",
            "Company                2271\n",
            "City                    135\n",
            "State.Name              171\n",
            "State.Code              171\n",
            "Address               84054\n",
            "Latitude                  0\n",
            "Longitude                 0\n",
            "Industry              83823\n",
            "Job.Description          56\n",
            "Requirements          84090\n",
            "Salary                83861\n",
            "Listing.Start           683\n",
            "Listing.End             167\n",
            "Employment.Type          10\n",
            "Education.Required      267\n",
            "Created.At                0\n",
            "Updated.At                0\n",
            "dtype: int64\n"
          ]
        }
      ]
    },
    {
      "cell_type": "code",
      "source": [
        "# Drop columns with more than 50% missing values\n",
        "threshold = 0.5 * len(df)\n",
        "df = df.dropna(thresh=threshold, axis=1)"
      ],
      "metadata": {
        "id": "p8X28MEj7GUV"
      },
      "execution_count": null,
      "outputs": []
    },
    {
      "cell_type": "code",
      "source": [
        "# Impute missing values for remaining columns\n",
        "# Fill numerical columns with median\n",
        "for col in df.select_dtypes(include=[np.number]).columns:\n",
        "    df[col].fillna(df[col].median(), inplace=True)"
      ],
      "metadata": {
        "id": "rL1bpxw77JPV"
      },
      "execution_count": null,
      "outputs": []
    },
    {
      "cell_type": "code",
      "source": [
        "# Fill categorical columns with mode\n",
        "for col in df.select_dtypes(include=[object]).columns:\n",
        "    df[col].fillna(df[col].mode()[0], inplace=True)"
      ],
      "metadata": {
        "id": "OcPYtGbt7Lpl"
      },
      "execution_count": null,
      "outputs": []
    },
    {
      "cell_type": "code",
      "source": [
        "# Save the cleaned dataset\n",
        "df.to_csv('jobs_cleaned.csv', index=False)\n",
        "\n",
        "print(\"Missing values handled and saved to jobs_cleaned.csv\")"
      ],
      "metadata": {
        "colab": {
          "base_uri": "https://localhost:8080/"
        },
        "id": "5s2W1Oez7OxN",
        "outputId": "44eda1bb-c0ef-4ab8-aa9a-d2886b1b77da"
      },
      "execution_count": null,
      "outputs": [
        {
          "output_type": "stream",
          "name": "stdout",
          "text": [
            "Missing values handled and saved to jobs_cleaned.csv\n"
          ]
        }
      ]
    },
    {
      "cell_type": "markdown",
      "source": [
        "Handling Unrealistic Values"
      ],
      "metadata": {
        "id": "yZWszORx7Zvs"
      }
    },
    {
      "cell_type": "code",
      "source": [
        "# Load the dataset\n",
        "df = pd.read_csv('jobs_cleaned.csv')"
      ],
      "metadata": {
        "id": "pSRfp6kM9h0D"
      },
      "execution_count": null,
      "outputs": []
    },
    {
      "cell_type": "code",
      "source": [
        "print(df.columns)"
      ],
      "metadata": {
        "colab": {
          "base_uri": "https://localhost:8080/"
        },
        "id": "sLLbl3TUAgay",
        "outputId": "0c3881be-cd29-4fa7-e815-26b11dae985a"
      },
      "execution_count": null,
      "outputs": [
        {
          "output_type": "stream",
          "name": "stdout",
          "text": [
            "Index(['Job.ID', 'Provider', 'Status', 'Slug', 'Title', 'Position', 'Company',\n",
            "       'City', 'State.Name', 'State.Code', 'Latitude', 'Longitude',\n",
            "       'Job.Description', 'Listing.Start', 'Listing.End', 'Employment.Type',\n",
            "       'Education.Required', 'Created.At', 'Updated.At'],\n",
            "      dtype='object')\n"
          ]
        }
      ]
    },
    {
      "cell_type": "code",
      "source": [
        "# Define unrealistic thresholds for each column\n",
        "unrealistic_thresholds = {\n",
        "    'Age': (0, 120),  # Example thresholds for age\n",
        "    'Salary': (0, 1e6),  # Example thresholds for salary\n",
        "    # Add more columns and thresholds as needed\n",
        "}"
      ],
      "metadata": {
        "id": "GVPVitBvC4G-"
      },
      "execution_count": null,
      "outputs": []
    },
    {
      "cell_type": "code",
      "source": [
        "# Loop through each column and handle unrealistic values\n",
        "for column, (low_threshold, high_threshold) in unrealistic_thresholds.items():\n",
        "    if column in df.columns:\n",
        "        # Replace unrealistic values with NaN\n",
        "        df.loc[(df[column] < low_threshold) | (df[column] > high_threshold), column] = np.nan\n",
        "    else:\n",
        "        print(f\"The '{column}' column does not exist in the DataFrame.\")\n",
        "\n",
        "# Print the DataFrame after handling unrealistic values\n",
        "print(df)"
      ],
      "metadata": {
        "colab": {
          "base_uri": "https://localhost:8080/"
        },
        "id": "kmgjwybuDAJ2",
        "outputId": "2c6c2154-8f44-4b7c-f225-f0bac30d739c"
      },
      "execution_count": null,
      "outputs": [
        {
          "output_type": "stream",
          "name": "stdout",
          "text": [
            "The 'Age' column does not exist in the DataFrame.\n",
            "The 'Salary' column does not exist in the DataFrame.\n",
            "       Job.ID  Provider Status  \\\n",
            "0         111         1   open   \n",
            "1         113         1   open   \n",
            "2         117         1   open   \n",
            "3         121         1   open   \n",
            "4         127         1   open   \n",
            "...       ...       ...    ...   \n",
            "84085      82         1   open   \n",
            "84086      83         1   open   \n",
            "84087      84         1   open   \n",
            "84088      88         1   open   \n",
            "84089      92         1   open   \n",
            "\n",
            "                                                    Slug  \\\n",
            "0                        palo-alto-ca-tacolicious-server   \n",
            "1        san-francisco-ca-claude-lane-kitchen-staff-chef   \n",
            "2      san-francisco-ca-machka-restaurants-corp-barte...   \n",
            "3                      brisbane-ca-teriyaki-house-server   \n",
            "4      los-angeles-ca-rosa-mexicano-sunset-kitchen-st...   \n",
            "...                                                  ...   \n",
            "84085  san-francisco-ca-national-japanese-american-hi...   \n",
            "84086       larkspur-ca-emporio-rulli-kitchen-staff-chef   \n",
            "84087                san-francisco-ca-onigilly-driver-84   \n",
            "84088  san-francisco-ca-machka-restaurants-corp-line-...   \n",
            "84089               san-jose-ca-kazoo-restaurant-cashier   \n",
            "\n",
            "                                                   Title            Position  \\\n",
            "0                                   Server @ Tacolicious              Server   \n",
            "1                       Kitchen Staff/Chef @ Claude Lane  Kitchen Staff/Chef   \n",
            "2                   Bartender @ Machka Restaurants Corp.           Bartender   \n",
            "3                                Server @ Teriyaki House              Server   \n",
            "4            Kitchen Staff/Chef @ Rosa Mexicano - Sunset  Kitchen Staff/Chef   \n",
            "...                                                  ...                 ...   \n",
            "84085  Book Keeper @ National Japanese American Histo...         Book Keeper   \n",
            "84086                 Kitchen Staff/Chef @ Emporio Rulli  Kitchen Staff/Chef   \n",
            "84087                                  Driver @ Onigilly              Driver   \n",
            "84088               Line Cook @ Machka Restaurants Corp.           Line Cook   \n",
            "84089                         Cashier @ Kazoo Restaurant             Cashier   \n",
            "\n",
            "                                             Company           City  \\\n",
            "0                                        Tacolicious      Palo Alto   \n",
            "1                                        Claude Lane  San Francisco   \n",
            "2                           Machka Restaurants Corp.  San Francisco   \n",
            "3                                     Teriyaki House       Brisbane   \n",
            "4                             Rosa Mexicano - Sunset    Los Angeles   \n",
            "...                                              ...            ...   \n",
            "84085  National Japanese American Historical Society  San Francisco   \n",
            "84086                                  Emporio Rulli       Larkspur   \n",
            "84087                                       Onigilly  San Francisco   \n",
            "84088                       Machka Restaurants Corp.  San Francisco   \n",
            "84089                               Kazoo Restaurant       San Jose   \n",
            "\n",
            "       State.Name State.Code   Latitude   Longitude  \\\n",
            "0      California         CA  37.443346 -122.161170   \n",
            "1      California         CA  37.789830 -122.404268   \n",
            "2      California         CA  37.795597 -122.402963   \n",
            "3      California         CA  37.685073 -122.400275   \n",
            "4      California         CA  34.073384 -118.460439   \n",
            "...           ...        ...        ...         ...   \n",
            "84085  California         CA  37.785874 -122.429495   \n",
            "84086  California         CA  37.935384 -122.535025   \n",
            "84087  California         CA  37.791409 -122.404413   \n",
            "84088  California         CA  37.795597 -122.402963   \n",
            "84089  California         CA  37.349233 -121.893302   \n",
            "\n",
            "                                         Job.Description Listing.Start  \\\n",
            "0      Tacolicious' first Palo Alto store just opened...    03-03-2015   \n",
            "1       \\r\\n\\r\\nNew French Brasserie in S.F. Financia...    03-03-2015   \n",
            "2      We are a popular Mediterranean wine bar and re...    03-03-2015   \n",
            "3       ● Serve food/drinks to customers in a profess...    03-03-2015   \n",
            "4      Located at the heart of Hollywood, we are one ...    03-03-2015   \n",
            "...                                                  ...           ...   \n",
            "84085  NJAHS stands for National Japanese American Hi...    03-03-2015   \n",
            "84086  Weekend Brunch Line Cook \\r\\n● Other shifts ma...    03-03-2015   \n",
            "84087  ONIGILLY (Japanese rice ball wraps) seeks outg...    03-03-2015   \n",
            "84088  We are a popular Mediterranean restaurant in F...    03-03-2015   \n",
            "84089   We are looking for a cashier! \\r\\n\\r\\n ● Take...    03-03-2015   \n",
            "\n",
            "      Listing.End Employment.Type Education.Required               Created.At  \\\n",
            "0      01-04-2015       Part-Time      Not Specified  2013-03-12 02:08:28 UTC   \n",
            "1      01-04-2015       Part-Time      Not Specified  2013-04-12 08:36:36 UTC   \n",
            "2      01-04-2015       Part-Time      Not Specified  2013-07-16 09:34:10 UTC   \n",
            "3      01-04-2015       Part-Time      Not Specified  2013-09-04 15:40:30 UTC   \n",
            "4      01-04-2015       Part-Time      Not Specified  2013-07-17 15:26:18 UTC   \n",
            "...           ...             ...                ...                      ...   \n",
            "84085  01-04-2015       Part-Time      Not Specified  2013-03-20 06:35:01 UTC   \n",
            "84086  01-04-2015       Part-Time      Not Specified  2013-03-20 08:06:43 UTC   \n",
            "84087  01-04-2015       Part-Time      Not Specified  2013-03-12 01:47:13 UTC   \n",
            "84088  01-04-2015       Part-Time      Not Specified  2013-07-16 08:55:22 UTC   \n",
            "84089  01-04-2015       Part-Time      Not Specified  2013-03-27 09:35:04 UTC   \n",
            "\n",
            "                    Updated.At  \n",
            "0      2014-08-16 15:35:36 UTC  \n",
            "1      2014-08-16 15:35:36 UTC  \n",
            "2      2014-08-16 15:35:37 UTC  \n",
            "3      2014-08-16 15:35:38 UTC  \n",
            "4      2014-08-16 15:35:40 UTC  \n",
            "...                        ...  \n",
            "84085  2014-08-16 15:35:27 UTC  \n",
            "84086  2014-08-16 15:35:27 UTC  \n",
            "84087  2014-08-16 15:35:27 UTC  \n",
            "84088  2014-08-16 15:35:28 UTC  \n",
            "84089  2014-08-16 15:35:30 UTC  \n",
            "\n",
            "[84090 rows x 19 columns]\n"
          ]
        }
      ]
    },
    {
      "cell_type": "code",
      "source": [
        "# Loop through each column and replace negative values with NaN\n",
        "for column in df.columns:\n",
        "    if df[column].dtype in [np.int64, np.float64]:  # Check if the column contains numerical data\n",
        "        df.loc[df[column] < 0, column] = np.nan\n",
        "\n",
        "# Print the DataFrame after replacing negative values\n",
        "print(df)"
      ],
      "metadata": {
        "colab": {
          "base_uri": "https://localhost:8080/"
        },
        "id": "FFZnL4OeDRvH",
        "outputId": "7c61a4db-24c6-4d9e-d143-94bcb60c6010"
      },
      "execution_count": null,
      "outputs": [
        {
          "output_type": "stream",
          "name": "stdout",
          "text": [
            "       Job.ID  Provider Status  \\\n",
            "0       111.0       1.0   open   \n",
            "1       113.0       1.0   open   \n",
            "2       117.0       1.0   open   \n",
            "3       121.0       1.0   open   \n",
            "4       127.0       1.0   open   \n",
            "...       ...       ...    ...   \n",
            "84085    82.0       1.0   open   \n",
            "84086    83.0       1.0   open   \n",
            "84087    84.0       1.0   open   \n",
            "84088    88.0       1.0   open   \n",
            "84089    92.0       1.0   open   \n",
            "\n",
            "                                                    Slug  \\\n",
            "0                        palo-alto-ca-tacolicious-server   \n",
            "1        san-francisco-ca-claude-lane-kitchen-staff-chef   \n",
            "2      san-francisco-ca-machka-restaurants-corp-barte...   \n",
            "3                      brisbane-ca-teriyaki-house-server   \n",
            "4      los-angeles-ca-rosa-mexicano-sunset-kitchen-st...   \n",
            "...                                                  ...   \n",
            "84085  san-francisco-ca-national-japanese-american-hi...   \n",
            "84086       larkspur-ca-emporio-rulli-kitchen-staff-chef   \n",
            "84087                san-francisco-ca-onigilly-driver-84   \n",
            "84088  san-francisco-ca-machka-restaurants-corp-line-...   \n",
            "84089               san-jose-ca-kazoo-restaurant-cashier   \n",
            "\n",
            "                                                   Title            Position  \\\n",
            "0                                   Server @ Tacolicious              Server   \n",
            "1                       Kitchen Staff/Chef @ Claude Lane  Kitchen Staff/Chef   \n",
            "2                   Bartender @ Machka Restaurants Corp.           Bartender   \n",
            "3                                Server @ Teriyaki House              Server   \n",
            "4            Kitchen Staff/Chef @ Rosa Mexicano - Sunset  Kitchen Staff/Chef   \n",
            "...                                                  ...                 ...   \n",
            "84085  Book Keeper @ National Japanese American Histo...         Book Keeper   \n",
            "84086                 Kitchen Staff/Chef @ Emporio Rulli  Kitchen Staff/Chef   \n",
            "84087                                  Driver @ Onigilly              Driver   \n",
            "84088               Line Cook @ Machka Restaurants Corp.           Line Cook   \n",
            "84089                         Cashier @ Kazoo Restaurant             Cashier   \n",
            "\n",
            "                                             Company           City  \\\n",
            "0                                        Tacolicious      Palo Alto   \n",
            "1                                        Claude Lane  San Francisco   \n",
            "2                           Machka Restaurants Corp.  San Francisco   \n",
            "3                                     Teriyaki House       Brisbane   \n",
            "4                             Rosa Mexicano - Sunset    Los Angeles   \n",
            "...                                              ...            ...   \n",
            "84085  National Japanese American Historical Society  San Francisco   \n",
            "84086                                  Emporio Rulli       Larkspur   \n",
            "84087                                       Onigilly  San Francisco   \n",
            "84088                       Machka Restaurants Corp.  San Francisco   \n",
            "84089                               Kazoo Restaurant       San Jose   \n",
            "\n",
            "       State.Name State.Code   Latitude  Longitude  \\\n",
            "0      California         CA  37.443346        NaN   \n",
            "1      California         CA  37.789830        NaN   \n",
            "2      California         CA  37.795597        NaN   \n",
            "3      California         CA  37.685073        NaN   \n",
            "4      California         CA  34.073384        NaN   \n",
            "...           ...        ...        ...        ...   \n",
            "84085  California         CA  37.785874        NaN   \n",
            "84086  California         CA  37.935384        NaN   \n",
            "84087  California         CA  37.791409        NaN   \n",
            "84088  California         CA  37.795597        NaN   \n",
            "84089  California         CA  37.349233        NaN   \n",
            "\n",
            "                                         Job.Description Listing.Start  \\\n",
            "0      Tacolicious' first Palo Alto store just opened...    03-03-2015   \n",
            "1       \\r\\n\\r\\nNew French Brasserie in S.F. Financia...    03-03-2015   \n",
            "2      We are a popular Mediterranean wine bar and re...    03-03-2015   \n",
            "3       ● Serve food/drinks to customers in a profess...    03-03-2015   \n",
            "4      Located at the heart of Hollywood, we are one ...    03-03-2015   \n",
            "...                                                  ...           ...   \n",
            "84085  NJAHS stands for National Japanese American Hi...    03-03-2015   \n",
            "84086  Weekend Brunch Line Cook \\r\\n● Other shifts ma...    03-03-2015   \n",
            "84087  ONIGILLY (Japanese rice ball wraps) seeks outg...    03-03-2015   \n",
            "84088  We are a popular Mediterranean restaurant in F...    03-03-2015   \n",
            "84089   We are looking for a cashier! \\r\\n\\r\\n ● Take...    03-03-2015   \n",
            "\n",
            "      Listing.End Employment.Type Education.Required               Created.At  \\\n",
            "0      01-04-2015       Part-Time      Not Specified  2013-03-12 02:08:28 UTC   \n",
            "1      01-04-2015       Part-Time      Not Specified  2013-04-12 08:36:36 UTC   \n",
            "2      01-04-2015       Part-Time      Not Specified  2013-07-16 09:34:10 UTC   \n",
            "3      01-04-2015       Part-Time      Not Specified  2013-09-04 15:40:30 UTC   \n",
            "4      01-04-2015       Part-Time      Not Specified  2013-07-17 15:26:18 UTC   \n",
            "...           ...             ...                ...                      ...   \n",
            "84085  01-04-2015       Part-Time      Not Specified  2013-03-20 06:35:01 UTC   \n",
            "84086  01-04-2015       Part-Time      Not Specified  2013-03-20 08:06:43 UTC   \n",
            "84087  01-04-2015       Part-Time      Not Specified  2013-03-12 01:47:13 UTC   \n",
            "84088  01-04-2015       Part-Time      Not Specified  2013-07-16 08:55:22 UTC   \n",
            "84089  01-04-2015       Part-Time      Not Specified  2013-03-27 09:35:04 UTC   \n",
            "\n",
            "                    Updated.At  \n",
            "0      2014-08-16 15:35:36 UTC  \n",
            "1      2014-08-16 15:35:36 UTC  \n",
            "2      2014-08-16 15:35:37 UTC  \n",
            "3      2014-08-16 15:35:38 UTC  \n",
            "4      2014-08-16 15:35:40 UTC  \n",
            "...                        ...  \n",
            "84085  2014-08-16 15:35:27 UTC  \n",
            "84086  2014-08-16 15:35:27 UTC  \n",
            "84087  2014-08-16 15:35:27 UTC  \n",
            "84088  2014-08-16 15:35:28 UTC  \n",
            "84089  2014-08-16 15:35:30 UTC  \n",
            "\n",
            "[84090 rows x 19 columns]\n"
          ]
        }
      ]
    },
    {
      "cell_type": "markdown",
      "source": [
        "Checking Duplicate Values"
      ],
      "metadata": {
        "id": "UAfqma_1DmLe"
      }
    },
    {
      "cell_type": "code",
      "source": [
        "#finding out duplicate rows if any\n",
        "duplicate_rows = df.duplicated()\n",
        "print(\"Duplicate rows:\")\n",
        "print(df[duplicate_rows])"
      ],
      "metadata": {
        "colab": {
          "base_uri": "https://localhost:8080/"
        },
        "id": "RAygdFT2Eh5V",
        "outputId": "d95ee3af-c541-4078-8035-7cab61ced33f"
      },
      "execution_count": null,
      "outputs": [
        {
          "output_type": "stream",
          "name": "stdout",
          "text": [
            "Duplicate rows:\n",
            "Empty DataFrame\n",
            "Columns: [Job.ID, Provider, Status, Slug, Title, Position, Company, City, State.Name, State.Code, Latitude, Longitude, Job.Description, Listing.Start, Listing.End, Employment.Type, Education.Required, Created.At, Updated.At]\n",
            "Index: []\n"
          ]
        }
      ]
    },
    {
      "cell_type": "code",
      "source": [
        "df.head()"
      ],
      "metadata": {
        "colab": {
          "base_uri": "https://localhost:8080/",
          "height": 591
        },
        "id": "vP0Uy6YuEqnd",
        "outputId": "629d1b9b-6c95-4b22-ab3a-bd69acd1556d"
      },
      "execution_count": null,
      "outputs": [
        {
          "output_type": "execute_result",
          "data": {
            "text/plain": [
              "   Job.ID  Provider Status                                               Slug  \\\n",
              "0   111.0       1.0   open                    palo-alto-ca-tacolicious-server   \n",
              "1   113.0       1.0   open    san-francisco-ca-claude-lane-kitchen-staff-chef   \n",
              "2   117.0       1.0   open  san-francisco-ca-machka-restaurants-corp-barte...   \n",
              "3   121.0       1.0   open                  brisbane-ca-teriyaki-house-server   \n",
              "4   127.0       1.0   open  los-angeles-ca-rosa-mexicano-sunset-kitchen-st...   \n",
              "\n",
              "                                         Title            Position  \\\n",
              "0                         Server @ Tacolicious              Server   \n",
              "1             Kitchen Staff/Chef @ Claude Lane  Kitchen Staff/Chef   \n",
              "2         Bartender @ Machka Restaurants Corp.           Bartender   \n",
              "3                      Server @ Teriyaki House              Server   \n",
              "4  Kitchen Staff/Chef @ Rosa Mexicano - Sunset  Kitchen Staff/Chef   \n",
              "\n",
              "                    Company           City  State.Name State.Code   Latitude  \\\n",
              "0               Tacolicious      Palo Alto  California         CA  37.443346   \n",
              "1               Claude Lane  San Francisco  California         CA  37.789830   \n",
              "2  Machka Restaurants Corp.  San Francisco  California         CA  37.795597   \n",
              "3            Teriyaki House       Brisbane  California         CA  37.685073   \n",
              "4    Rosa Mexicano - Sunset    Los Angeles  California         CA  34.073384   \n",
              "\n",
              "   Longitude                                    Job.Description Listing.Start  \\\n",
              "0        NaN  Tacolicious' first Palo Alto store just opened...    03-03-2015   \n",
              "1        NaN   \\r\\n\\r\\nNew French Brasserie in S.F. Financia...    03-03-2015   \n",
              "2        NaN  We are a popular Mediterranean wine bar and re...    03-03-2015   \n",
              "3        NaN   ● Serve food/drinks to customers in a profess...    03-03-2015   \n",
              "4        NaN  Located at the heart of Hollywood, we are one ...    03-03-2015   \n",
              "\n",
              "  Listing.End Employment.Type Education.Required               Created.At  \\\n",
              "0  01-04-2015       Part-Time      Not Specified  2013-03-12 02:08:28 UTC   \n",
              "1  01-04-2015       Part-Time      Not Specified  2013-04-12 08:36:36 UTC   \n",
              "2  01-04-2015       Part-Time      Not Specified  2013-07-16 09:34:10 UTC   \n",
              "3  01-04-2015       Part-Time      Not Specified  2013-09-04 15:40:30 UTC   \n",
              "4  01-04-2015       Part-Time      Not Specified  2013-07-17 15:26:18 UTC   \n",
              "\n",
              "                Updated.At  \n",
              "0  2014-08-16 15:35:36 UTC  \n",
              "1  2014-08-16 15:35:36 UTC  \n",
              "2  2014-08-16 15:35:37 UTC  \n",
              "3  2014-08-16 15:35:38 UTC  \n",
              "4  2014-08-16 15:35:40 UTC  "
            ],
            "text/html": [
              "\n",
              "  <div id=\"df-5c1a2cf9-c394-473b-9aec-d08c5d766b26\" class=\"colab-df-container\">\n",
              "    <div>\n",
              "<style scoped>\n",
              "    .dataframe tbody tr th:only-of-type {\n",
              "        vertical-align: middle;\n",
              "    }\n",
              "\n",
              "    .dataframe tbody tr th {\n",
              "        vertical-align: top;\n",
              "    }\n",
              "\n",
              "    .dataframe thead th {\n",
              "        text-align: right;\n",
              "    }\n",
              "</style>\n",
              "<table border=\"1\" class=\"dataframe\">\n",
              "  <thead>\n",
              "    <tr style=\"text-align: right;\">\n",
              "      <th></th>\n",
              "      <th>Job.ID</th>\n",
              "      <th>Provider</th>\n",
              "      <th>Status</th>\n",
              "      <th>Slug</th>\n",
              "      <th>Title</th>\n",
              "      <th>Position</th>\n",
              "      <th>Company</th>\n",
              "      <th>City</th>\n",
              "      <th>State.Name</th>\n",
              "      <th>State.Code</th>\n",
              "      <th>Latitude</th>\n",
              "      <th>Longitude</th>\n",
              "      <th>Job.Description</th>\n",
              "      <th>Listing.Start</th>\n",
              "      <th>Listing.End</th>\n",
              "      <th>Employment.Type</th>\n",
              "      <th>Education.Required</th>\n",
              "      <th>Created.At</th>\n",
              "      <th>Updated.At</th>\n",
              "    </tr>\n",
              "  </thead>\n",
              "  <tbody>\n",
              "    <tr>\n",
              "      <th>0</th>\n",
              "      <td>111.0</td>\n",
              "      <td>1.0</td>\n",
              "      <td>open</td>\n",
              "      <td>palo-alto-ca-tacolicious-server</td>\n",
              "      <td>Server @ Tacolicious</td>\n",
              "      <td>Server</td>\n",
              "      <td>Tacolicious</td>\n",
              "      <td>Palo Alto</td>\n",
              "      <td>California</td>\n",
              "      <td>CA</td>\n",
              "      <td>37.443346</td>\n",
              "      <td>NaN</td>\n",
              "      <td>Tacolicious' first Palo Alto store just opened...</td>\n",
              "      <td>03-03-2015</td>\n",
              "      <td>01-04-2015</td>\n",
              "      <td>Part-Time</td>\n",
              "      <td>Not Specified</td>\n",
              "      <td>2013-03-12 02:08:28 UTC</td>\n",
              "      <td>2014-08-16 15:35:36 UTC</td>\n",
              "    </tr>\n",
              "    <tr>\n",
              "      <th>1</th>\n",
              "      <td>113.0</td>\n",
              "      <td>1.0</td>\n",
              "      <td>open</td>\n",
              "      <td>san-francisco-ca-claude-lane-kitchen-staff-chef</td>\n",
              "      <td>Kitchen Staff/Chef @ Claude Lane</td>\n",
              "      <td>Kitchen Staff/Chef</td>\n",
              "      <td>Claude Lane</td>\n",
              "      <td>San Francisco</td>\n",
              "      <td>California</td>\n",
              "      <td>CA</td>\n",
              "      <td>37.789830</td>\n",
              "      <td>NaN</td>\n",
              "      <td>\\r\\n\\r\\nNew French Brasserie in S.F. Financia...</td>\n",
              "      <td>03-03-2015</td>\n",
              "      <td>01-04-2015</td>\n",
              "      <td>Part-Time</td>\n",
              "      <td>Not Specified</td>\n",
              "      <td>2013-04-12 08:36:36 UTC</td>\n",
              "      <td>2014-08-16 15:35:36 UTC</td>\n",
              "    </tr>\n",
              "    <tr>\n",
              "      <th>2</th>\n",
              "      <td>117.0</td>\n",
              "      <td>1.0</td>\n",
              "      <td>open</td>\n",
              "      <td>san-francisco-ca-machka-restaurants-corp-barte...</td>\n",
              "      <td>Bartender @ Machka Restaurants Corp.</td>\n",
              "      <td>Bartender</td>\n",
              "      <td>Machka Restaurants Corp.</td>\n",
              "      <td>San Francisco</td>\n",
              "      <td>California</td>\n",
              "      <td>CA</td>\n",
              "      <td>37.795597</td>\n",
              "      <td>NaN</td>\n",
              "      <td>We are a popular Mediterranean wine bar and re...</td>\n",
              "      <td>03-03-2015</td>\n",
              "      <td>01-04-2015</td>\n",
              "      <td>Part-Time</td>\n",
              "      <td>Not Specified</td>\n",
              "      <td>2013-07-16 09:34:10 UTC</td>\n",
              "      <td>2014-08-16 15:35:37 UTC</td>\n",
              "    </tr>\n",
              "    <tr>\n",
              "      <th>3</th>\n",
              "      <td>121.0</td>\n",
              "      <td>1.0</td>\n",
              "      <td>open</td>\n",
              "      <td>brisbane-ca-teriyaki-house-server</td>\n",
              "      <td>Server @ Teriyaki House</td>\n",
              "      <td>Server</td>\n",
              "      <td>Teriyaki House</td>\n",
              "      <td>Brisbane</td>\n",
              "      <td>California</td>\n",
              "      <td>CA</td>\n",
              "      <td>37.685073</td>\n",
              "      <td>NaN</td>\n",
              "      <td>● Serve food/drinks to customers in a profess...</td>\n",
              "      <td>03-03-2015</td>\n",
              "      <td>01-04-2015</td>\n",
              "      <td>Part-Time</td>\n",
              "      <td>Not Specified</td>\n",
              "      <td>2013-09-04 15:40:30 UTC</td>\n",
              "      <td>2014-08-16 15:35:38 UTC</td>\n",
              "    </tr>\n",
              "    <tr>\n",
              "      <th>4</th>\n",
              "      <td>127.0</td>\n",
              "      <td>1.0</td>\n",
              "      <td>open</td>\n",
              "      <td>los-angeles-ca-rosa-mexicano-sunset-kitchen-st...</td>\n",
              "      <td>Kitchen Staff/Chef @ Rosa Mexicano - Sunset</td>\n",
              "      <td>Kitchen Staff/Chef</td>\n",
              "      <td>Rosa Mexicano - Sunset</td>\n",
              "      <td>Los Angeles</td>\n",
              "      <td>California</td>\n",
              "      <td>CA</td>\n",
              "      <td>34.073384</td>\n",
              "      <td>NaN</td>\n",
              "      <td>Located at the heart of Hollywood, we are one ...</td>\n",
              "      <td>03-03-2015</td>\n",
              "      <td>01-04-2015</td>\n",
              "      <td>Part-Time</td>\n",
              "      <td>Not Specified</td>\n",
              "      <td>2013-07-17 15:26:18 UTC</td>\n",
              "      <td>2014-08-16 15:35:40 UTC</td>\n",
              "    </tr>\n",
              "  </tbody>\n",
              "</table>\n",
              "</div>\n",
              "    <div class=\"colab-df-buttons\">\n",
              "\n",
              "  <div class=\"colab-df-container\">\n",
              "    <button class=\"colab-df-convert\" onclick=\"convertToInteractive('df-5c1a2cf9-c394-473b-9aec-d08c5d766b26')\"\n",
              "            title=\"Convert this dataframe to an interactive table.\"\n",
              "            style=\"display:none;\">\n",
              "\n",
              "  <svg xmlns=\"http://www.w3.org/2000/svg\" height=\"24px\" viewBox=\"0 -960 960 960\">\n",
              "    <path d=\"M120-120v-720h720v720H120Zm60-500h600v-160H180v160Zm220 220h160v-160H400v160Zm0 220h160v-160H400v160ZM180-400h160v-160H180v160Zm440 0h160v-160H620v160ZM180-180h160v-160H180v160Zm440 0h160v-160H620v160Z\"/>\n",
              "  </svg>\n",
              "    </button>\n",
              "\n",
              "  <style>\n",
              "    .colab-df-container {\n",
              "      display:flex;\n",
              "      gap: 12px;\n",
              "    }\n",
              "\n",
              "    .colab-df-convert {\n",
              "      background-color: #E8F0FE;\n",
              "      border: none;\n",
              "      border-radius: 50%;\n",
              "      cursor: pointer;\n",
              "      display: none;\n",
              "      fill: #1967D2;\n",
              "      height: 32px;\n",
              "      padding: 0 0 0 0;\n",
              "      width: 32px;\n",
              "    }\n",
              "\n",
              "    .colab-df-convert:hover {\n",
              "      background-color: #E2EBFA;\n",
              "      box-shadow: 0px 1px 2px rgba(60, 64, 67, 0.3), 0px 1px 3px 1px rgba(60, 64, 67, 0.15);\n",
              "      fill: #174EA6;\n",
              "    }\n",
              "\n",
              "    .colab-df-buttons div {\n",
              "      margin-bottom: 4px;\n",
              "    }\n",
              "\n",
              "    [theme=dark] .colab-df-convert {\n",
              "      background-color: #3B4455;\n",
              "      fill: #D2E3FC;\n",
              "    }\n",
              "\n",
              "    [theme=dark] .colab-df-convert:hover {\n",
              "      background-color: #434B5C;\n",
              "      box-shadow: 0px 1px 3px 1px rgba(0, 0, 0, 0.15);\n",
              "      filter: drop-shadow(0px 1px 2px rgba(0, 0, 0, 0.3));\n",
              "      fill: #FFFFFF;\n",
              "    }\n",
              "  </style>\n",
              "\n",
              "    <script>\n",
              "      const buttonEl =\n",
              "        document.querySelector('#df-5c1a2cf9-c394-473b-9aec-d08c5d766b26 button.colab-df-convert');\n",
              "      buttonEl.style.display =\n",
              "        google.colab.kernel.accessAllowed ? 'block' : 'none';\n",
              "\n",
              "      async function convertToInteractive(key) {\n",
              "        const element = document.querySelector('#df-5c1a2cf9-c394-473b-9aec-d08c5d766b26');\n",
              "        const dataTable =\n",
              "          await google.colab.kernel.invokeFunction('convertToInteractive',\n",
              "                                                    [key], {});\n",
              "        if (!dataTable) return;\n",
              "\n",
              "        const docLinkHtml = 'Like what you see? Visit the ' +\n",
              "          '<a target=\"_blank\" href=https://colab.research.google.com/notebooks/data_table.ipynb>data table notebook</a>'\n",
              "          + ' to learn more about interactive tables.';\n",
              "        element.innerHTML = '';\n",
              "        dataTable['output_type'] = 'display_data';\n",
              "        await google.colab.output.renderOutput(dataTable, element);\n",
              "        const docLink = document.createElement('div');\n",
              "        docLink.innerHTML = docLinkHtml;\n",
              "        element.appendChild(docLink);\n",
              "      }\n",
              "    </script>\n",
              "  </div>\n",
              "\n",
              "\n",
              "<div id=\"df-b9007bdc-420f-441e-9efc-8a6350f873f7\">\n",
              "  <button class=\"colab-df-quickchart\" onclick=\"quickchart('df-b9007bdc-420f-441e-9efc-8a6350f873f7')\"\n",
              "            title=\"Suggest charts\"\n",
              "            style=\"display:none;\">\n",
              "\n",
              "<svg xmlns=\"http://www.w3.org/2000/svg\" height=\"24px\"viewBox=\"0 0 24 24\"\n",
              "     width=\"24px\">\n",
              "    <g>\n",
              "        <path d=\"M19 3H5c-1.1 0-2 .9-2 2v14c0 1.1.9 2 2 2h14c1.1 0 2-.9 2-2V5c0-1.1-.9-2-2-2zM9 17H7v-7h2v7zm4 0h-2V7h2v10zm4 0h-2v-4h2v4z\"/>\n",
              "    </g>\n",
              "</svg>\n",
              "  </button>\n",
              "\n",
              "<style>\n",
              "  .colab-df-quickchart {\n",
              "      --bg-color: #E8F0FE;\n",
              "      --fill-color: #1967D2;\n",
              "      --hover-bg-color: #E2EBFA;\n",
              "      --hover-fill-color: #174EA6;\n",
              "      --disabled-fill-color: #AAA;\n",
              "      --disabled-bg-color: #DDD;\n",
              "  }\n",
              "\n",
              "  [theme=dark] .colab-df-quickchart {\n",
              "      --bg-color: #3B4455;\n",
              "      --fill-color: #D2E3FC;\n",
              "      --hover-bg-color: #434B5C;\n",
              "      --hover-fill-color: #FFFFFF;\n",
              "      --disabled-bg-color: #3B4455;\n",
              "      --disabled-fill-color: #666;\n",
              "  }\n",
              "\n",
              "  .colab-df-quickchart {\n",
              "    background-color: var(--bg-color);\n",
              "    border: none;\n",
              "    border-radius: 50%;\n",
              "    cursor: pointer;\n",
              "    display: none;\n",
              "    fill: var(--fill-color);\n",
              "    height: 32px;\n",
              "    padding: 0;\n",
              "    width: 32px;\n",
              "  }\n",
              "\n",
              "  .colab-df-quickchart:hover {\n",
              "    background-color: var(--hover-bg-color);\n",
              "    box-shadow: 0 1px 2px rgba(60, 64, 67, 0.3), 0 1px 3px 1px rgba(60, 64, 67, 0.15);\n",
              "    fill: var(--button-hover-fill-color);\n",
              "  }\n",
              "\n",
              "  .colab-df-quickchart-complete:disabled,\n",
              "  .colab-df-quickchart-complete:disabled:hover {\n",
              "    background-color: var(--disabled-bg-color);\n",
              "    fill: var(--disabled-fill-color);\n",
              "    box-shadow: none;\n",
              "  }\n",
              "\n",
              "  .colab-df-spinner {\n",
              "    border: 2px solid var(--fill-color);\n",
              "    border-color: transparent;\n",
              "    border-bottom-color: var(--fill-color);\n",
              "    animation:\n",
              "      spin 1s steps(1) infinite;\n",
              "  }\n",
              "\n",
              "  @keyframes spin {\n",
              "    0% {\n",
              "      border-color: transparent;\n",
              "      border-bottom-color: var(--fill-color);\n",
              "      border-left-color: var(--fill-color);\n",
              "    }\n",
              "    20% {\n",
              "      border-color: transparent;\n",
              "      border-left-color: var(--fill-color);\n",
              "      border-top-color: var(--fill-color);\n",
              "    }\n",
              "    30% {\n",
              "      border-color: transparent;\n",
              "      border-left-color: var(--fill-color);\n",
              "      border-top-color: var(--fill-color);\n",
              "      border-right-color: var(--fill-color);\n",
              "    }\n",
              "    40% {\n",
              "      border-color: transparent;\n",
              "      border-right-color: var(--fill-color);\n",
              "      border-top-color: var(--fill-color);\n",
              "    }\n",
              "    60% {\n",
              "      border-color: transparent;\n",
              "      border-right-color: var(--fill-color);\n",
              "    }\n",
              "    80% {\n",
              "      border-color: transparent;\n",
              "      border-right-color: var(--fill-color);\n",
              "      border-bottom-color: var(--fill-color);\n",
              "    }\n",
              "    90% {\n",
              "      border-color: transparent;\n",
              "      border-bottom-color: var(--fill-color);\n",
              "    }\n",
              "  }\n",
              "</style>\n",
              "\n",
              "  <script>\n",
              "    async function quickchart(key) {\n",
              "      const quickchartButtonEl =\n",
              "        document.querySelector('#' + key + ' button');\n",
              "      quickchartButtonEl.disabled = true;  // To prevent multiple clicks.\n",
              "      quickchartButtonEl.classList.add('colab-df-spinner');\n",
              "      try {\n",
              "        const charts = await google.colab.kernel.invokeFunction(\n",
              "            'suggestCharts', [key], {});\n",
              "      } catch (error) {\n",
              "        console.error('Error during call to suggestCharts:', error);\n",
              "      }\n",
              "      quickchartButtonEl.classList.remove('colab-df-spinner');\n",
              "      quickchartButtonEl.classList.add('colab-df-quickchart-complete');\n",
              "    }\n",
              "    (() => {\n",
              "      let quickchartButtonEl =\n",
              "        document.querySelector('#df-b9007bdc-420f-441e-9efc-8a6350f873f7 button');\n",
              "      quickchartButtonEl.style.display =\n",
              "        google.colab.kernel.accessAllowed ? 'block' : 'none';\n",
              "    })();\n",
              "  </script>\n",
              "</div>\n",
              "    </div>\n",
              "  </div>\n"
            ],
            "application/vnd.google.colaboratory.intrinsic+json": {
              "type": "dataframe",
              "variable_name": "df",
              "summary": "{\n  \"name\": \"df\",\n  \"rows\": 84090,\n  \"fields\": [\n    {\n      \"column\": \"Job.ID\",\n      \"properties\": {\n        \"dtype\": \"number\",\n        \"std\": 52653.870400854816,\n        \"min\": 3.0,\n        \"max\": 319174.0,\n        \"num_unique_values\": 84090,\n        \"samples\": [\n          294845.0,\n          265365.0,\n          305868.0\n        ],\n        \"semantic_type\": \"\",\n        \"description\": \"\"\n      }\n    },\n    {\n      \"column\": \"Provider\",\n      \"properties\": {\n        \"dtype\": \"number\",\n        \"std\": 0.056272366365342684,\n        \"min\": 1.0,\n        \"max\": 3.0,\n        \"num_unique_values\": 3,\n        \"samples\": [\n          1.0,\n          2.0,\n          3.0\n        ],\n        \"semantic_type\": \"\",\n        \"description\": \"\"\n      }\n    },\n    {\n      \"column\": \"Status\",\n      \"properties\": {\n        \"dtype\": \"category\",\n        \"num_unique_values\": 1,\n        \"samples\": [\n          \"open\"\n        ],\n        \"semantic_type\": \"\",\n        \"description\": \"\"\n      }\n    },\n    {\n      \"column\": \"Slug\",\n      \"properties\": {\n        \"dtype\": \"string\",\n        \"num_unique_values\": 84090,\n        \"samples\": [\n          \"lake-forest-il-knowledge-universe-site-director\"\n        ],\n        \"semantic_type\": \"\",\n        \"description\": \"\"\n      }\n    },\n    {\n      \"column\": \"Title\",\n      \"properties\": {\n        \"dtype\": \"category\",\n        \"num_unique_values\": 41861,\n        \"samples\": [\n          \"General Office Clerk Needed ASAP! @ OfficeTeam\"\n        ],\n        \"semantic_type\": \"\",\n        \"description\": \"\"\n      }\n    },\n    {\n      \"column\": \"Position\",\n      \"properties\": {\n        \"dtype\": \"category\",\n        \"num_unique_values\": 36245,\n        \"samples\": [\n          \"Bookkeeper - Immediate job opportunity in Jasper!\"\n        ],\n        \"semantic_type\": \"\",\n        \"description\": \"\"\n      }\n    },\n    {\n      \"column\": \"Company\",\n      \"properties\": {\n        \"dtype\": \"category\",\n        \"num_unique_values\": 8335,\n        \"samples\": [\n          \"Bayside Rehabilitation and Health Center\"\n        ],\n        \"semantic_type\": \"\",\n        \"description\": \"\"\n      }\n    },\n    {\n      \"column\": \"City\",\n      \"properties\": {\n        \"dtype\": \"category\",\n        \"num_unique_values\": 5503,\n        \"samples\": [\n          \"Monongahela\"\n        ],\n        \"semantic_type\": \"\",\n        \"description\": \"\"\n      }\n    },\n    {\n      \"column\": \"State.Name\",\n      \"properties\": {\n        \"dtype\": \"category\",\n        \"num_unique_values\": 51,\n        \"samples\": [\n          \"Vermont\"\n        ],\n        \"semantic_type\": \"\",\n        \"description\": \"\"\n      }\n    },\n    {\n      \"column\": \"State.Code\",\n      \"properties\": {\n        \"dtype\": \"category\",\n        \"num_unique_values\": 51,\n        \"samples\": [\n          \"VT\"\n        ],\n        \"semantic_type\": \"\",\n        \"description\": \"\"\n      }\n    },\n    {\n      \"column\": \"Latitude\",\n      \"properties\": {\n        \"dtype\": \"number\",\n        \"std\": 5.452898721125297,\n        \"min\": 0.0,\n        \"max\": 71.2947,\n        \"num_unique_values\": 14451,\n        \"samples\": [\n          40.2429\n        ],\n        \"semantic_type\": \"\",\n        \"description\": \"\"\n      }\n    },\n    {\n      \"column\": \"Longitude\",\n      \"properties\": {\n        \"dtype\": \"number\",\n        \"std\": 15.448854503789072,\n        \"min\": 0.0,\n        \"max\": 144.8858,\n        \"num_unique_values\": 3,\n        \"samples\": [\n          0.0\n        ],\n        \"semantic_type\": \"\",\n        \"description\": \"\"\n      }\n    },\n    {\n      \"column\": \"Job.Description\",\n      \"properties\": {\n        \"dtype\": \"string\",\n        \"num_unique_values\": 59269,\n        \"samples\": [\n          \"Ref ID:04210-124191Classification:Accountant - StaffCompensation:$19.00 to $23.50 per hourneed staff accountant for aprrox 45-50k with experience in month end close, GL entries, bank Res, rebates, sales tax filling, A/AP. this position will very much be work horse position with 100% in cubicle. DEPARTMENT: FINANCE PRIMARY FUNCTIONS: Accounts payable, journal entries, reconciliations, and tax reporting and filings. ESSENTIAL DUTIES AND RESPONSIBILITIES: Process accounts payable, including expense reports and credit cards Prepare journal entries Reconcile bank and intercompany accounts. Reconcile JIT rebates Assist in preparing monthly financial reporting package Prepare state tax reporting and filings Maintain annual state registration filings Maintain various Federal and State income tax returns and assist with tax notices Reconcile and balance Visual and XLN accounting systems Calculate MDET payments and file Prepare forecasts of annual results. Analyze working capital and prepare analysis for management File annual reports and business licenses annually Cross-train and perform back-up duties for AR clerk KNOWLEDGE AND SKILLS: Ability to work independently in a fast paced environment Ability to multi-task Good understanding of Company's accounts and project codes Strong analytical and math skills Ability to reconcile and communicate discrepancies Send your resume to [Click Here to Email Your Resum\\u00e9]\"\n        ],\n        \"semantic_type\": \"\",\n        \"description\": \"\"\n      }\n    },\n    {\n      \"column\": \"Listing.Start\",\n      \"properties\": {\n        \"dtype\": \"category\",\n        \"num_unique_values\": 146,\n        \"samples\": [\n          \"2015-02-10 20:47:06 UTC\"\n        ],\n        \"semantic_type\": \"\",\n        \"description\": \"\"\n      }\n    },\n    {\n      \"column\": \"Listing.End\",\n      \"properties\": {\n        \"dtype\": \"category\",\n        \"num_unique_values\": 144,\n        \"samples\": [\n          \"2015-04-30 17:52:00 UTC\"\n        ],\n        \"semantic_type\": \"\",\n        \"description\": \"\"\n      }\n    },\n    {\n      \"column\": \"Employment.Type\",\n      \"properties\": {\n        \"dtype\": \"category\",\n        \"num_unique_values\": 8,\n        \"samples\": [\n          \"Full-Time/Part-Time\"\n        ],\n        \"semantic_type\": \"\",\n        \"description\": \"\"\n      }\n    },\n    {\n      \"column\": \"Education.Required\",\n      \"properties\": {\n        \"dtype\": \"category\",\n        \"num_unique_values\": 5,\n        \"samples\": [\n          \"High School Diploma\"\n        ],\n        \"semantic_type\": \"\",\n        \"description\": \"\"\n      }\n    },\n    {\n      \"column\": \"Created.At\",\n      \"properties\": {\n        \"dtype\": \"object\",\n        \"num_unique_values\": 59238,\n        \"samples\": [\n          \"2015-03-12 10:07:52 UTC\"\n        ],\n        \"semantic_type\": \"\",\n        \"description\": \"\"\n      }\n    },\n    {\n      \"column\": \"Updated.At\",\n      \"properties\": {\n        \"dtype\": \"object\",\n        \"num_unique_values\": 58981,\n        \"samples\": [\n          \"2015-04-08 10:22:18 UTC\"\n        ],\n        \"semantic_type\": \"\",\n        \"description\": \"\"\n      }\n    }\n  ]\n}"
            }
          },
          "metadata": {},
          "execution_count": 107
        }
      ]
    },
    {
      "cell_type": "code",
      "source": [
        "print(df.columns)"
      ],
      "metadata": {
        "colab": {
          "base_uri": "https://localhost:8080/"
        },
        "id": "_S090ihyvRAN",
        "outputId": "3b00e330-0adb-45e4-8e73-39a9207774d9"
      },
      "execution_count": null,
      "outputs": [
        {
          "output_type": "stream",
          "name": "stdout",
          "text": [
            "Index(['Employment.Type'], dtype='object')\n"
          ]
        }
      ]
    },
    {
      "cell_type": "code",
      "source": [
        "#  bins and labels for latitude and longitude columns\n",
        "latitude_bins = [30, 35, 40, 45, 50]  # Example latitude bins\n",
        "longitude_bins = [-130, -120, -110, -100, -90]  # Example longitude bins\n"
      ],
      "metadata": {
        "id": "acWjwZ-1E3ID"
      },
      "execution_count": null,
      "outputs": []
    },
    {
      "cell_type": "code",
      "source": [
        "# Create labels for latitude and longitude bins\n",
        "latitude_labels = ['< 35', '35-40', '40-45', '45-50']\n",
        "longitude_labels = ['< -120', '-120 to -110', '-110 to -100', '-100 to -90']"
      ],
      "metadata": {
        "id": "-A2HpHzvFJbk"
      },
      "execution_count": null,
      "outputs": []
    },
    {
      "cell_type": "code",
      "source": [
        "# Bin latitude and longitude columns\n",
        "df['Latitude_Bin'] = pd.cut(df['Latitude'], bins=latitude_bins, labels=latitude_labels)\n",
        "df['Longitude_Bin'] = pd.cut(df['Longitude'], bins=longitude_bins, labels=longitude_labels)\n",
        "\n",
        "# Display the DataFrame with latitude and longitude bins\n",
        "print(df[['Latitude', 'Latitude_Bin', 'Longitude', 'Longitude_Bin']])"
      ],
      "metadata": {
        "colab": {
          "base_uri": "https://localhost:8080/"
        },
        "id": "sudQwrmDFcOL",
        "outputId": "ebb05bba-e453-4bf2-f9ca-1cdc065ddf9e"
      },
      "execution_count": null,
      "outputs": [
        {
          "output_type": "stream",
          "name": "stdout",
          "text": [
            "        Latitude Latitude_Bin  Longitude Longitude_Bin\n",
            "0      37.443346        35-40        NaN           NaN\n",
            "1      37.789830        35-40        NaN           NaN\n",
            "2      37.795597        35-40        NaN           NaN\n",
            "3      37.685073        35-40        NaN           NaN\n",
            "4      34.073384         < 35        NaN           NaN\n",
            "...          ...          ...        ...           ...\n",
            "84085  37.785874        35-40        NaN           NaN\n",
            "84086  37.935384        35-40        NaN           NaN\n",
            "84087  37.791409        35-40        NaN           NaN\n",
            "84088  37.795597        35-40        NaN           NaN\n",
            "84089  37.349233        35-40        NaN           NaN\n",
            "\n",
            "[84090 rows x 4 columns]\n"
          ]
        }
      ]
    },
    {
      "cell_type": "code",
      "source": [
        "# Count the number of occurrences of each type in the 'Employment.Type' column\n",
        "employment_type_counts = df['Employment.Type'].value_counts()"
      ],
      "metadata": {
        "id": "4Wys6GrUGJpG"
      },
      "execution_count": null,
      "outputs": []
    },
    {
      "cell_type": "code",
      "source": [
        "\n",
        "# Print the counts\n",
        "print(\"Number of occurrences of each type in the 'Employment.Type' column:\")\n",
        "print(employment_type_counts)"
      ],
      "metadata": {
        "colab": {
          "base_uri": "https://localhost:8080/"
        },
        "id": "hUS5V04CGi_Y",
        "outputId": "ab803101-e7ca-4a01-b2d9-253b660081bb"
      },
      "execution_count": null,
      "outputs": [
        {
          "output_type": "stream",
          "name": "stdout",
          "text": [
            "Number of occurrences of each type in the 'Employment.Type' column:\n",
            "Employment.Type\n",
            "Part-Time              33238\n",
            "Seasonal/Temp          27609\n",
            "Full-Time/Part-Time    17626\n",
            "Per Diem                4644\n",
            "Intern                   921\n",
            "Full-Time                 37\n",
            "Contract                  14\n",
            "Temporary/seasonal         1\n",
            "Name: count, dtype: int64\n"
          ]
        }
      ]
    },
    {
      "cell_type": "code",
      "source": [
        "# Count the number of occurrences of each district in the 'City' column\n",
        "district_distribution = df['City'].value_counts()"
      ],
      "metadata": {
        "id": "Bt_-PXt1GzBe"
      },
      "execution_count": null,
      "outputs": []
    },
    {
      "cell_type": "code",
      "source": [
        "# Print the distribution\n",
        "print(\"District distribution:\")\n",
        "print(district_distribution)"
      ],
      "metadata": {
        "colab": {
          "base_uri": "https://localhost:8080/"
        },
        "id": "J0gNQ2wNG2KN",
        "outputId": "26557f65-3ec3-4acc-9d91-b31f120c8bcd"
      },
      "execution_count": null,
      "outputs": [
        {
          "output_type": "stream",
          "name": "stdout",
          "text": [
            "District distribution:\n",
            "City\n",
            "Chicago           1024\n",
            "Houston            855\n",
            "San Francisco      728\n",
            "Indianapolis       727\n",
            "Los Angeles        722\n",
            "                  ... \n",
            "Hewitt               1\n",
            "Arvin                1\n",
            "New York Mills       1\n",
            "Toa Baja             1\n",
            "Yountville           1\n",
            "Name: count, Length: 5503, dtype: int64\n"
          ]
        }
      ]
    },
    {
      "cell_type": "code",
      "source": [
        "# Find the district with the maximum count\n",
        "max_district = district_distribution.idxmax()\n"
      ],
      "metadata": {
        "id": "LEsK6r1PHIbK"
      },
      "execution_count": null,
      "outputs": []
    },
    {
      "cell_type": "code",
      "source": [
        "# Print the district with the maximum count\n",
        "print(\"District with the maximum count:\", max_district)"
      ],
      "metadata": {
        "colab": {
          "base_uri": "https://localhost:8080/"
        },
        "id": "RZROalkmHKrB",
        "outputId": "048197ee-8565-4b5b-b66e-6300d9d67cce"
      },
      "execution_count": null,
      "outputs": [
        {
          "output_type": "stream",
          "name": "stdout",
          "text": [
            "District with the maximum count: Chicago\n"
          ]
        }
      ]
    },
    {
      "cell_type": "markdown",
      "source": [
        "##Visualization"
      ],
      "metadata": {
        "id": "ZxKvRkMVIwZn"
      }
    },
    {
      "cell_type": "code",
      "source": [
        "print(df.columns)\n"
      ],
      "metadata": {
        "colab": {
          "base_uri": "https://localhost:8080/"
        },
        "id": "omTNhmEKqyPE",
        "outputId": "7c5e4a3a-b8c6-4f4c-d5ba-780b437abe97"
      },
      "execution_count": null,
      "outputs": [
        {
          "output_type": "stream",
          "name": "stdout",
          "text": [
            "Index(['Employment.Type'], dtype='object')\n"
          ]
        }
      ]
    },
    {
      "cell_type": "code",
      "source": [
        "# Plotting the pie charts\n",
        "fig, axes = plt.subplots(1, 2, figsize=(15, 6))\n",
        "\n",
        "# Pie chart for district distribution\n",
        "axes[0].pie(district_data.values(), labels=district_data.keys(), autopct='%1.1f%%', startangle=140)\n",
        "axes[0].set_title('District Distribution')\n",
        "\n",
        "# Pie chart for employment type distribution\n",
        "axes[1].pie(employment_data.values(), labels=employment_data.keys(), autopct='%1.1f%%', startangle=140)\n",
        "axes[1].set_title('Employment Type Distribution')\n",
        "\n",
        "# Equal aspect ratio ensures that pie charts are drawn as circles.\n",
        "axes[0].axis('equal')\n",
        "axes[1].axis('equal')\n",
        "\n",
        "plt.tight_layout()\n",
        "plt.show()"
      ],
      "metadata": {
        "colab": {
          "base_uri": "https://localhost:8080/",
          "height": 606
        },
        "id": "YTagg4Qxte52",
        "outputId": "83364e39-d11e-41a2-9910-8e569f608bff"
      },
      "execution_count": null,
      "outputs": [
        {
          "output_type": "display_data",
          "data": {
            "text/plain": [
              "<Figure size 1500x600 with 2 Axes>"
            ],
            "image/png": "[encoded data removed]"
          },
          "metadata": {}
        }
      ]
    },
    {
      "cell_type": "code",
      "source": [
        "print(df.columns)"
      ],
      "metadata": {
        "colab": {
          "base_uri": "https://localhost:8080/"
        },
        "id": "pxTHQRQCvNd4",
        "outputId": "81ea45d8-cbec-4a17-c7b8-b46593b68610"
      },
      "execution_count": null,
      "outputs": [
        {
          "output_type": "stream",
          "name": "stdout",
          "text": [
            "Index(['Employment.Type'], dtype='object')\n"
          ]
        }
      ]
    },
    {
      "cell_type": "code",
      "source": [
        "# Employment type counts\n",
        "employment_type_counts = {\n",
        "    'Part-Time': 33238,\n",
        "    'Seasonal/Temp': 27609,\n",
        "    'Full-Time/Part-Time': 17626,\n",
        "    'Per Diem': 4644,\n",
        "    'Intern': 921,\n",
        "    'Full-Time': 37,\n",
        "    'Contract': 14,\n",
        "    'Temporary/seasonal': 1\n",
        "}"
      ],
      "metadata": {
        "id": "qM3YUmQRv-MP"
      },
      "execution_count": null,
      "outputs": []
    },
    {
      "cell_type": "code",
      "source": [
        "# Count the occurrences of each employment type\n",
        "employment_type_counts = df['Employment.Type'].value_counts()\n",
        "\n",
        "# Plotting\n",
        "plt.figure(figsize=(10, 6))\n",
        "sns.barplot(x=employment_type_counts, y=employment_type_counts.index, orient='h')\n",
        "plt.title('Employment Type Distribution')\n",
        "plt.xlabel('Count')\n",
        "plt.ylabel('Employment Type')\n",
        "plt.show()"
      ],
      "metadata": {
        "colab": {
          "base_uri": "https://localhost:8080/",
          "height": 564
        },
        "id": "cXX4OITCvaj7",
        "outputId": "3e0b7a1d-2e5f-457b-8855-0ac2b8b63e72"
      },
      "execution_count": null,
      "outputs": [
        {
          "output_type": "display_data",
          "data": {
            "text/plain": [
              "<Figure size 1000x600 with 1 Axes>"
            ],
            "image/png": "[encoded data removed]"
          },
          "metadata": {}
        }
      ]
    },
    {
      "cell_type": "code",
      "source": [
        "# Employment type counts\n",
        "employment_type_counts = {\n",
        "    'Part-Time': 33238,\n",
        "    'Seasonal/Temp': 27609,\n",
        "    'Full-Time/Part-Time': 17626,\n",
        "    'Per Diem': 4644,\n",
        "    'Intern': 921,\n",
        "    'Full-Time': 37,\n",
        "    'Contract': 14,\n",
        "    'Temporary/seasonal': 1\n",
        "}"
      ],
      "metadata": {
        "id": "Cs-s0j9Rv64K"
      },
      "execution_count": null,
      "outputs": []
    },
    {
      "cell_type": "code",
      "source": [
        "# Convert employment type counts to a DataFrame\n",
        "df_employment_type = pd.DataFrame(list(employment_type_counts.items()), columns=['Employment.Type', 'Count'])\n",
        "\n",
        "# Plotting\n",
        "plt.figure(figsize=(10, 6))\n",
        "sns.boxplot(x='Count', y='Employment.Type', data=df_employment_type, orient='h')\n",
        "plt.title('Box Plot of Employment Type Distribution')\n",
        "plt.xlabel('Count')\n",
        "plt.ylabel('Employment Type')\n",
        "plt.show()"
      ],
      "metadata": {
        "colab": {
          "base_uri": "https://localhost:8080/",
          "height": 564
        },
        "id": "vtDXpEMBvzuk",
        "outputId": "4921ba2c-bb2b-44ed-fc95-9926c4ab676b"
      },
      "execution_count": null,
      "outputs": [
        {
          "output_type": "display_data",
          "data": {
            "text/plain": [
              "<Figure size 1000x600 with 1 Axes>"
            ],
            "image/png": "[encoded data removed]"
          },
          "metadata": {}
        }
      ]
    },
    {
      "cell_type": "code",
      "source": [
        "print(f\"/content/drive/MyDrive/Combined_Jobs_Final.csv.zip\")"
      ],
      "metadata": {
        "colab": {
          "base_uri": "https://localhost:8080/"
        },
        "id": "vDBzFMcCnwhY",
        "outputId": "ddf66236-0a31-4d26-aaef-f69619c54924"
      },
      "execution_count": null,
      "outputs": [
        {
          "output_type": "stream",
          "name": "stdout",
          "text": [
            "/content/drive/MyDrive/Combined_Jobs_Final.csv.zip\n"
          ]
        }
      ]
    }
  ]
}